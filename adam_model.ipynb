{
 "cells": [
  {
   "cell_type": "code",
   "execution_count": 2,
   "metadata": {},
   "outputs": [],
   "source": [
    "import numpy as np\n",
    "import pandas as pd\n",
    "import matplotlib.pyplot as plt\n",
    "import seaborn as sns\n",
    "\n",
    "from sklearn.metrics import mean_squared_error, explained_variance_score, r2_score\n",
    "from sklearn.feature_selection import SelectKBest, f_regression, RFE\n",
    "from sklearn.linear_model import LinearRegression, LassoLars\n",
    "from sklearn.preprocessing import PolynomialFeatures\n",
    "\n",
    "import warnings\n",
    "warnings.filterwarnings('ignore')\n",
    "\n",
    "import wrangle as wra\n",
    "import preprocessing as pre"
   ]
  },
  {
   "cell_type": "markdown",
   "metadata": {},
   "source": [
    "## Retrieving, Splitting, Scaling Data"
   ]
  },
  {
   "cell_type": "code",
   "execution_count": 3,
   "metadata": {},
   "outputs": [],
   "source": [
    "expanded, score, full_history = wra.get_reports_data('credit_record.csv')"
   ]
  },
  {
   "cell_type": "code",
   "execution_count": 4,
   "metadata": {},
   "outputs": [],
   "source": [
    "apps = wra.get_application_data('application_record.csv')"
   ]
  },
  {
   "cell_type": "code",
   "execution_count": 6,
   "metadata": {},
   "outputs": [],
   "source": [
    "apps_cred, apps_none = pre.add_score_target(apps, score)"
   ]
  },
  {
   "cell_type": "code",
   "execution_count": 7,
   "metadata": {},
   "outputs": [],
   "source": [
    "apps_cred = pre.encode_dummies(apps_cred)"
   ]
  },
  {
   "cell_type": "code",
   "execution_count": 8,
   "metadata": {},
   "outputs": [],
   "source": [
    "train, validate, test = pre.split_data(apps_cred)"
   ]
  },
  {
   "cell_type": "code",
   "execution_count": 9,
   "metadata": {},
   "outputs": [],
   "source": [
    "X_train, y_train, X_validate, y_validate, X_test, y_test = pre.create_scaled_x_y(train, validate, test, 'score')"
   ]
  },
  {
   "cell_type": "code",
   "execution_count": 11,
   "metadata": {},
   "outputs": [
    {
     "data": {
      "text/plain": [
       "((26248, 47), (26248,), (6563, 47), (6563,), (3646, 47), (3646,))"
      ]
     },
     "execution_count": 11,
     "metadata": {},
     "output_type": "execute_result"
    }
   ],
   "source": [
    "X_train.shape, y_train.shape, X_validate.shape, y_validate.shape, X_test.shape, y_test.shape"
   ]
  },
  {
   "cell_type": "markdown",
   "metadata": {},
   "source": [
    "## Setting up Baseline"
   ]
  },
  {
   "cell_type": "code",
   "execution_count": 14,
   "metadata": {},
   "outputs": [],
   "source": [
    "mean = y_train.mean()"
   ]
  },
  {
   "cell_type": "code",
   "execution_count": 15,
   "metadata": {},
   "outputs": [],
   "source": [
    "median = y_train.median()"
   ]
  },
  {
   "cell_type": "code",
   "execution_count": 16,
   "metadata": {},
   "outputs": [
    {
     "data": {
      "text/plain": [
       "(array([26.02095398, 26.02095398, 26.02095398, 26.02095398, 26.02095398]),\n",
       " 26248)"
      ]
     },
     "execution_count": 16,
     "metadata": {},
     "output_type": "execute_result"
    }
   ],
   "source": [
    "baseline = np.array([mean] * X_train.shape[0])\n",
    "baseline[:5], len(baseline)"
   ]
  },
  {
   "cell_type": "code",
   "execution_count": 18,
   "metadata": {},
   "outputs": [
    {
     "data": {
      "text/plain": [
       "26382832.475312408"
      ]
     },
     "execution_count": 18,
     "metadata": {},
     "output_type": "execute_result"
    }
   ],
   "source": [
    "# Baseline SSE\n",
    "baseline_residual = y_train - mean\n",
    "baseline_sse = (baseline_residual**2).sum()\n",
    "baseline_sse"
   ]
  },
  {
   "cell_type": "code",
   "execution_count": 19,
   "metadata": {},
   "outputs": [
    {
     "data": {
      "text/plain": [
       "1005.1368666303111"
      ]
     },
     "execution_count": 19,
     "metadata": {},
     "output_type": "execute_result"
    }
   ],
   "source": [
    "# Baseline MSE\n",
    "baseline_mse = baseline_sse/X_train.shape[0]\n",
    "baseline_mse"
   ]
  },
  {
   "cell_type": "code",
   "execution_count": 21,
   "metadata": {},
   "outputs": [
    {
     "data": {
      "text/plain": [
       "31.703893556317514"
      ]
     },
     "execution_count": 21,
     "metadata": {},
     "output_type": "execute_result"
    }
   ],
   "source": [
    "# Baseline RMSE\n",
    "baseline_rmse = mean_squared_error(y_train, baseline) ** (1/2)\n",
    "baseline_rmse"
   ]
  },
  {
   "cell_type": "markdown",
   "metadata": {},
   "source": [
    "## Feature Selection"
   ]
  },
  {
   "cell_type": "code",
   "execution_count": 22,
   "metadata": {},
   "outputs": [],
   "source": [
    "def select_kbest(X_train_scaled, y_train, k):\n",
    "    '''\n",
    "    Takes in the predictors (X_train_scaled), the target (y_train), \n",
    "    and the number of features to select (k) \n",
    "    and returns the names of the top k selected features based on the SelectKBest class\n",
    "    '''\n",
    "    f_selector = SelectKBest(f_regression, k)\n",
    "    f_selector = f_selector.fit(X_train_scaled, y_train)\n",
    "    X_train_reduced = f_selector.transform(X_train_scaled)\n",
    "    f_support = f_selector.get_support()\n",
    "    f_feature = X_train_scaled.iloc[:,f_support].columns.tolist()\n",
    "    return f_feature"
   ]
  },
  {
   "cell_type": "code",
   "execution_count": 24,
   "metadata": {},
   "outputs": [
    {
     "data": {
      "text/plain": [
       "['flag_own_realty',\n",
       " 'days_birth',\n",
       " 'days_employed',\n",
       " 'employed_years',\n",
       " 'name_education_type_higher_education',\n",
       " 'name_education_type_lower_secondary',\n",
       " 'name_housing_type_house_/_apartment',\n",
       " 'name_housing_type_rented_apartment',\n",
       " 'occupation_type_medicine_staff',\n",
       " 'occupation_type_security_staff']"
      ]
     },
     "execution_count": 24,
     "metadata": {},
     "output_type": "execute_result"
    }
   ],
   "source": [
    "kbest = select_kbest(X_train, y_train, 10)\n",
    "kbest"
   ]
  },
  {
   "cell_type": "code",
   "execution_count": 25,
   "metadata": {},
   "outputs": [],
   "source": [
    "def rfe(X_train_scaled, y_train, k):\n",
    "    '''\n",
    "    Takes in the predictor (X_train_scaled), the target (y_train), \n",
    "    and the number of features to select (k).\n",
    "    Returns the top k features based on the RFE class.\n",
    "    '''\n",
    "    lm = LinearRegression()\n",
    "    rfe = RFE(lm, k)\n",
    "    # Transforming data using RFE\n",
    "    X_rfe = rfe.fit_transform(X_train_scaled, y_train)\n",
    "    #Fitting the data to model\n",
    "    lm.fit(X_rfe,y_train)\n",
    "    mask = rfe.support_\n",
    "    rfe_features = X_train_scaled.loc[:,mask].columns.tolist()\n",
    "    return rfe_features"
   ]
  },
  {
   "cell_type": "code",
   "execution_count": 26,
   "metadata": {},
   "outputs": [
    {
     "data": {
      "text/plain": [
       "['name_housing_type_co-op_apartment',\n",
       " 'name_housing_type_house_/_apartment',\n",
       " 'name_housing_type_municipal_apartment',\n",
       " 'name_housing_type_office_apartment',\n",
       " 'name_housing_type_rented_apartment',\n",
       " 'name_housing_type_with_parents',\n",
       " 'occupation_type_core_staff',\n",
       " 'occupation_type_laborers',\n",
       " 'occupation_type_sales_staff',\n",
       " 'occupation_type_waiters/barmen_staff']"
      ]
     },
     "execution_count": 26,
     "metadata": {},
     "output_type": "execute_result"
    }
   ],
   "source": [
    "rfe_features = rfe(X_train, y_train, 10)\n",
    "rfe_features"
   ]
  },
  {
   "cell_type": "code",
   "execution_count": 27,
   "metadata": {},
   "outputs": [],
   "source": [
    "X_train_kbest = X_train[kbest]\n",
    "X_train_rfe = X_train[rfe_features]"
   ]
  },
  {
   "cell_type": "code",
   "execution_count": 30,
   "metadata": {},
   "outputs": [
    {
     "data": {
      "text/plain": [
       "(Index(['flag_own_realty', 'days_birth', 'days_employed', 'employed_years',\n",
       "        'name_education_type_higher_education',\n",
       "        'name_education_type_lower_secondary',\n",
       "        'name_housing_type_house_/_apartment',\n",
       "        'name_housing_type_rented_apartment', 'occupation_type_medicine_staff',\n",
       "        'occupation_type_security_staff'],\n",
       "       dtype='object'),\n",
       " Index(['name_housing_type_co-op_apartment',\n",
       "        'name_housing_type_house_/_apartment',\n",
       "        'name_housing_type_municipal_apartment',\n",
       "        'name_housing_type_office_apartment',\n",
       "        'name_housing_type_rented_apartment', 'name_housing_type_with_parents',\n",
       "        'occupation_type_core_staff', 'occupation_type_laborers',\n",
       "        'occupation_type_sales_staff', 'occupation_type_waiters/barmen_staff'],\n",
       "       dtype='object'))"
      ]
     },
     "execution_count": 30,
     "metadata": {},
     "output_type": "execute_result"
    }
   ],
   "source": [
    "X_train_kbest.columns, X_train_rfe.columns"
   ]
  },
  {
   "cell_type": "code",
   "execution_count": 31,
   "metadata": {},
   "outputs": [
    {
     "data": {
      "text/plain": [
       "32073   -40.0\n",
       "Name: score, dtype: float64"
      ]
     },
     "execution_count": 31,
     "metadata": {},
     "output_type": "execute_result"
    }
   ],
   "source": [
    "y_train.head(1)"
   ]
  },
  {
   "cell_type": "code",
   "execution_count": 40,
   "metadata": {},
   "outputs": [],
   "source": [
    "def plot_residuals(actual, predicted, feature):\n",
    "    \"\"\"\n",
    "    Returns the scatterplot of actural y in horizontal axis and residuals in vertical axis\n",
    "    Parameters: actural y(df.se), predicted y(df.se), feature(str)\n",
    "    Prerequisite: call function evaluate_slr\n",
    "    \"\"\"\n",
    "    residuals = actual - predicted\n",
    "    plt.hlines(0, actual.min(), actual.max(), ls=':')\n",
    "    plt.scatter(actual, residuals)\n",
    "    plt.ylabel('residual ($y - \\hat{y}$)')\n",
    "    plt.xlabel('actual value ($y$)')\n",
    "    plt.title(f'Actual vs Residual on {feature}')\n",
    "    plt.gca()\n",
    "    return plt.gca()"
   ]
  },
  {
   "cell_type": "markdown",
   "metadata": {},
   "source": [
    "## Linear Regression Model"
   ]
  },
  {
   "cell_type": "code",
   "execution_count": 33,
   "metadata": {},
   "outputs": [],
   "source": [
    "# Create Linear Regression model\n",
    "lm = LinearRegression()"
   ]
  },
  {
   "cell_type": "markdown",
   "metadata": {},
   "source": [
    "### Using SelectKBest Features"
   ]
  },
  {
   "cell_type": "code",
   "execution_count": 34,
   "metadata": {},
   "outputs": [
    {
     "data": {
      "text/plain": [
       "31.648662643239504"
      ]
     },
     "execution_count": 34,
     "metadata": {},
     "output_type": "execute_result"
    }
   ],
   "source": [
    "# Fit X_train data containing features from SelectKBest and calculate the RMSE\n",
    "\n",
    "lm_kbest = lm.fit(X_train_kbest, y_train)\n",
    "lm_kbest_pred = lm_kbest.predict(X_train_kbest)\n",
    "lm_kbest_rmse = mean_squared_error(y_train, lm_kbest_pred) ** (1/2)\n",
    "\n",
    "lm_kbest_rmse"
   ]
  },
  {
   "cell_type": "code",
   "execution_count": 47,
   "metadata": {},
   "outputs": [
    {
     "data": {
      "image/png": "[encoded data removed]",
      "text/plain": [
       "<Figure size 432x288 with 1 Axes>"
      ]
     },
     "metadata": {
      "needs_background": "light"
     },
     "output_type": "display_data"
    }
   ],
   "source": [
    "# Residual Plot\n",
    "plt.subplot(111)\n",
    "plot_residuals(y_train, lm_kbest_pred, 'Select K Best Features')\n",
    "plt.show()"
   ]
  },
  {
   "cell_type": "markdown",
   "metadata": {},
   "source": [
    "### Using RFE Determined Features"
   ]
  },
  {
   "cell_type": "code",
   "execution_count": 36,
   "metadata": {},
   "outputs": [
    {
     "data": {
      "text/plain": [
       "31.682406988840505"
      ]
     },
     "execution_count": 36,
     "metadata": {},
     "output_type": "execute_result"
    }
   ],
   "source": [
    "# Fit X_train data containing features from RFE and calculate the RMSE\n",
    "\n",
    "lm_rfe = lm.fit(X_train_rfe, y_train)\n",
    "lm_rfe_pred = lm_rfe.predict(X_train_rfe)\n",
    "lm_rfe_rmse = mean_squared_error(y_train, lm_rfe_pred) ** (1/2)\n",
    "\n",
    "lm_rfe_rmse"
   ]
  },
  {
   "cell_type": "code",
   "execution_count": 48,
   "metadata": {},
   "outputs": [
    {
     "data": {
      "image/png": "[encoded data removed]",
      "text/plain": [
       "<Figure size 432x288 with 1 Axes>"
      ]
     },
     "metadata": {
      "needs_background": "light"
     },
     "output_type": "display_data"
    }
   ],
   "source": [
    "# Residual Plot\n",
    "plt.subplot(111)\n",
    "plot_residuals(y_train, lm_rfe_pred, 'RFE Features')\n",
    "plt.show()"
   ]
  },
  {
   "cell_type": "markdown",
   "metadata": {},
   "source": [
    "### Model Performance Summary"
   ]
  },
  {
   "cell_type": "code",
   "execution_count": 49,
   "metadata": {},
   "outputs": [
    {
     "data": {
      "text/html": [
       "<div>\n",
       "<style scoped>\n",
       "    .dataframe tbody tr th:only-of-type {\n",
       "        vertical-align: middle;\n",
       "    }\n",
       "\n",
       "    .dataframe tbody tr th {\n",
       "        vertical-align: top;\n",
       "    }\n",
       "\n",
       "    .dataframe thead th {\n",
       "        text-align: right;\n",
       "    }\n",
       "</style>\n",
       "<table border=\"1\" class=\"dataframe\">\n",
       "  <thead>\n",
       "    <tr style=\"text-align: right;\">\n",
       "      <th></th>\n",
       "      <th>RMSE</th>\n",
       "    </tr>\n",
       "  </thead>\n",
       "  <tbody>\n",
       "    <tr>\n",
       "      <th>Linear Regression w/ KBest RMSE</th>\n",
       "      <td>31.648663</td>\n",
       "    </tr>\n",
       "    <tr>\n",
       "      <th>Linear Regression w/ RFE RMSE</th>\n",
       "      <td>31.682407</td>\n",
       "    </tr>\n",
       "    <tr>\n",
       "      <th>Baseline RMSE</th>\n",
       "      <td>31.703894</td>\n",
       "    </tr>\n",
       "  </tbody>\n",
       "</table>\n",
       "</div>"
      ],
      "text/plain": [
       "                                      RMSE\n",
       "Linear Regression w/ KBest RMSE  31.648663\n",
       "Linear Regression w/ RFE RMSE    31.682407\n",
       "Baseline RMSE                    31.703894"
      ]
     },
     "execution_count": 49,
     "metadata": {},
     "output_type": "execute_result"
    }
   ],
   "source": [
    "rmse_values = [baseline_rmse, lm_kbest_rmse, lm_rfe_rmse]\n",
    "rmse_index = ['Baseline RMSE', 'Linear Regression w/ KBest RMSE', 'Linear Regression w/ RFE RMSE']\n",
    "summary = pd.DataFrame(rmse_values, index=rmse_index, columns = ['RMSE'])\n",
    "summary.sort_values(by='RMSE')"
   ]
  },
  {
   "cell_type": "code",
   "execution_count": null,
   "metadata": {},
   "outputs": [],
   "source": []
  }
 ],
 "metadata": {
  "kernelspec": {
   "display_name": "Python 3",
   "language": "python",
   "name": "python3"
  },
  "language_info": {
   "codemirror_mode": {
    "name": "ipython",
    "version": 3
   },
   "file_extension": ".py",
   "mimetype": "text/x-python",
   "name": "python",
   "nbconvert_exporter": "python",
   "pygments_lexer": "ipython3",
   "version": "3.7.9"
  }
 },
 "nbformat": 4,
 "nbformat_minor": 4
}

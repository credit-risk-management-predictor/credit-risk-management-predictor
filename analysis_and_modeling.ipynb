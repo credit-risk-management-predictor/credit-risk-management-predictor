{
 "cells": [
  {
   "cell_type": "markdown",
   "metadata": {},
   "source": [
    "# Table of Contents\n",
    "\n",
    "- [Goal](#Goal)\n",
    "- [Wrangle](#Wrangle)\n",
    "- [Explore Data Analysis (EDA)](#EDA)\n",
    "  - [Gender](#Gender)\n",
    "  - [Visualizations](#Visualizations)\n",
    "  - [Insightful](#Insightful-Visualizations)\n",
    "  - [Hypothesis Testing](#Hypothesis-Testing)\n",
    "- [Modeling](#Modeling)\n",
    "- [Results and Conclusions](#Results-and-Conclusions)\n",
    "  - [Next Steps](#Next-Steps)\n",
    "- [Appendix](#Appendix)"
   ]
  },
  {
   "cell_type": "code",
   "execution_count": 1,
   "metadata": {},
   "outputs": [
    {
     "name": "stdout",
     "output_type": "stream",
     "text": [
      "Initialized\n"
     ]
    }
   ],
   "source": [
    "import pandas as pd\n",
    "import numpy as np\n",
    "import matplotlib.pyplot as plt\n",
    "import seaborn as sns\n",
    "from math import sqrt\n",
    "import scipy.stats as stats\n",
    "from wranglev2 import wrangle_credit\n",
    "\n",
    "import warnings\n",
    "warnings.filterwarnings(\"ignore\")\n",
    "print('Initialized')"
   ]
  },
  {
   "cell_type": "markdown",
   "metadata": {},
   "source": [
    "# Goal\n",
    "\n",
    "Chinese banks are very risk-averse, yet younger generations are more willing to take on debt at similar rates to other developed countries. What are the contributing factors to a credit card holder defaulting on debt? When will an account default 6 months into the future? That is what we aim to find out! We will accomplish this by looking for patterns in a user's credit history and application data, always with an eye to ethical consideration when dealing with demographic data, to predict if they will default 6 months in the future. \n",
    "\n",
    "**Bottom Line Up Front (BLUF)**\n",
    "\n",
    "From all the work contained in this notebook we have deteremined that...\n",
    "\n",
    "---\n",
    "\n",
    "**Jump-to:** [Table of Contents](#Table-of-Contents) | [Goal](#Goal) | [Wrangle](#Wrangle) | [EDA](#EDA) | [Gender](#Gender) | [Visualizations](#Visualizations) | [Insightful](#Insightful-Visualizations) | [Hypothesis Testing](#Hypothesis-Testing) | [Modeling](#Modeling) | [Results and Conclusions](#Results-and-Conclusions) | [Next Steps](#Next-Steps) | [Appendix](#Appendix)"
   ]
  },
  {
   "cell_type": "markdown",
   "metadata": {},
   "source": [
    "# Wrangle\n",
    "\n",
    "All the prep/wrangle work is handled by the wrangle_credit function imported above. For an indpeth explination of how the wrangle_credit function works please see the [How-To Notebook](https://github.com/credit-risk-management-predictor/credit-risk-management-predictor/blob/main/how_to.ipynb).\n"
   ]
  },
  {
   "cell_type": "code",
   "execution_count": 2,
   "metadata": {
    "scrolled": false
   },
   "outputs": [
    {
     "name": "stdout",
     "output_type": "stream",
     "text": [
      "Help on function wrangle_credit in module wranglev2:\n",
      "\n",
      "wrangle_credit()\n",
      "    This function does the following:\n",
      "    * uses get_reports_data function to process credit_reports.csv data into the expanded DF \n",
      "    * uses get_application_data functionto process the application_record.csv into an apps DF\n",
      "    * uses encode_dummies function to create dummy variables from the categorical variables of the apps DF\n",
      "    * merges the apps and expanded DFs into a final_df on 'id'\n",
      "    * uses split_stratify_data on the final_df to create the train, validate, test data sets\n",
      "    * return train, validate, test data sets as DFs\n",
      "    Note - The create_scaled_x_y function will be used after EDA to avoid confusion.\n",
      "    Note 2 - Remember to drop columns not used as features such as age, gender, etc\n",
      "\n"
     ]
    }
   ],
   "source": [
    "help(wrangle_credit)"
   ]
  },
  {
   "cell_type": "code",
   "execution_count": 3,
   "metadata": {},
   "outputs": [
    {
     "data": {
      "text/html": [
       "<div>\n",
       "<style scoped>\n",
       "    .dataframe tbody tr th:only-of-type {\n",
       "        vertical-align: middle;\n",
       "    }\n",
       "\n",
       "    .dataframe tbody tr th {\n",
       "        vertical-align: top;\n",
       "    }\n",
       "\n",
       "    .dataframe thead th {\n",
       "        text-align: right;\n",
       "    }\n",
       "</style>\n",
       "<table border=\"1\" class=\"dataframe\">\n",
       "  <thead>\n",
       "    <tr style=\"text-align: right;\">\n",
       "      <th></th>\n",
       "      <th>id</th>\n",
       "      <th>code_gender</th>\n",
       "      <th>flag_own_car</th>\n",
       "      <th>flag_own_realty</th>\n",
       "      <th>cnt_children</th>\n",
       "      <th>amt_income_total</th>\n",
       "      <th>name_income_type</th>\n",
       "      <th>name_education_type</th>\n",
       "      <th>name_family_status</th>\n",
       "      <th>name_housing_type</th>\n",
       "      <th>...</th>\n",
       "      <th>first_half_score</th>\n",
       "      <th>difference_score</th>\n",
       "      <th>odds_evens_score</th>\n",
       "      <th>begining_score</th>\n",
       "      <th>middle_score</th>\n",
       "      <th>ending_score</th>\n",
       "      <th>spread_score</th>\n",
       "      <th>alpha_omgea_score</th>\n",
       "      <th>begining_ending_score</th>\n",
       "      <th>defaulted</th>\n",
       "    </tr>\n",
       "  </thead>\n",
       "  <tbody>\n",
       "    <tr>\n",
       "      <th>22151</th>\n",
       "      <td>5142128</td>\n",
       "      <td>F</td>\n",
       "      <td>0</td>\n",
       "      <td>0</td>\n",
       "      <td>0</td>\n",
       "      <td>283500.0</td>\n",
       "      <td>Commercial associate</td>\n",
       "      <td>Secondary / secondary special</td>\n",
       "      <td>Married</td>\n",
       "      <td>Municipal apartment</td>\n",
       "      <td>...</td>\n",
       "      <td>0</td>\n",
       "      <td>0</td>\n",
       "      <td>0</td>\n",
       "      <td>0</td>\n",
       "      <td>0</td>\n",
       "      <td>0</td>\n",
       "      <td>0</td>\n",
       "      <td>0</td>\n",
       "      <td>0</td>\n",
       "      <td>0</td>\n",
       "    </tr>\n",
       "    <tr>\n",
       "      <th>21572</th>\n",
       "      <td>5136981</td>\n",
       "      <td>F</td>\n",
       "      <td>0</td>\n",
       "      <td>0</td>\n",
       "      <td>0</td>\n",
       "      <td>306000.0</td>\n",
       "      <td>State servant</td>\n",
       "      <td>Higher education</td>\n",
       "      <td>Married</td>\n",
       "      <td>House / apartment</td>\n",
       "      <td>...</td>\n",
       "      <td>7</td>\n",
       "      <td>-2</td>\n",
       "      <td>9</td>\n",
       "      <td>4</td>\n",
       "      <td>6</td>\n",
       "      <td>2</td>\n",
       "      <td>9</td>\n",
       "      <td>3</td>\n",
       "      <td>6</td>\n",
       "      <td>0</td>\n",
       "    </tr>\n",
       "    <tr>\n",
       "      <th>8328</th>\n",
       "      <td>5052719</td>\n",
       "      <td>F</td>\n",
       "      <td>0</td>\n",
       "      <td>0</td>\n",
       "      <td>0</td>\n",
       "      <td>126000.0</td>\n",
       "      <td>Pensioner</td>\n",
       "      <td>Secondary / secondary special</td>\n",
       "      <td>Married</td>\n",
       "      <td>House / apartment</td>\n",
       "      <td>...</td>\n",
       "      <td>3</td>\n",
       "      <td>0</td>\n",
       "      <td>4</td>\n",
       "      <td>2</td>\n",
       "      <td>2</td>\n",
       "      <td>2</td>\n",
       "      <td>4</td>\n",
       "      <td>2</td>\n",
       "      <td>4</td>\n",
       "      <td>0</td>\n",
       "    </tr>\n",
       "    <tr>\n",
       "      <th>19787</th>\n",
       "      <td>5117901</td>\n",
       "      <td>F</td>\n",
       "      <td>0</td>\n",
       "      <td>0</td>\n",
       "      <td>0</td>\n",
       "      <td>76500.0</td>\n",
       "      <td>Pensioner</td>\n",
       "      <td>Secondary / secondary special</td>\n",
       "      <td>Widow</td>\n",
       "      <td>House / apartment</td>\n",
       "      <td>...</td>\n",
       "      <td>3</td>\n",
       "      <td>0</td>\n",
       "      <td>4</td>\n",
       "      <td>2</td>\n",
       "      <td>2</td>\n",
       "      <td>2</td>\n",
       "      <td>4</td>\n",
       "      <td>2</td>\n",
       "      <td>4</td>\n",
       "      <td>0</td>\n",
       "    </tr>\n",
       "    <tr>\n",
       "      <th>12424</th>\n",
       "      <td>5069147</td>\n",
       "      <td>M</td>\n",
       "      <td>0</td>\n",
       "      <td>1</td>\n",
       "      <td>0</td>\n",
       "      <td>216000.0</td>\n",
       "      <td>Commercial associate</td>\n",
       "      <td>Higher education</td>\n",
       "      <td>Married</td>\n",
       "      <td>House / apartment</td>\n",
       "      <td>...</td>\n",
       "      <td>2</td>\n",
       "      <td>-1</td>\n",
       "      <td>3</td>\n",
       "      <td>2</td>\n",
       "      <td>0</td>\n",
       "      <td>1</td>\n",
       "      <td>0</td>\n",
       "      <td>3</td>\n",
       "      <td>3</td>\n",
       "      <td>0</td>\n",
       "    </tr>\n",
       "  </tbody>\n",
       "</table>\n",
       "<p>5 rows × 82 columns</p>\n",
       "</div>"
      ],
      "text/plain": [
       "            id code_gender  flag_own_car  flag_own_realty  cnt_children  \\\n",
       "22151  5142128           F             0                0             0   \n",
       "21572  5136981           F             0                0             0   \n",
       "8328   5052719           F             0                0             0   \n",
       "19787  5117901           F             0                0             0   \n",
       "12424  5069147           M             0                1             0   \n",
       "\n",
       "       amt_income_total      name_income_type            name_education_type  \\\n",
       "22151          283500.0  Commercial associate  Secondary / secondary special   \n",
       "21572          306000.0         State servant               Higher education   \n",
       "8328           126000.0             Pensioner  Secondary / secondary special   \n",
       "19787           76500.0             Pensioner  Secondary / secondary special   \n",
       "12424          216000.0  Commercial associate               Higher education   \n",
       "\n",
       "      name_family_status    name_housing_type  ...  first_half_score  \\\n",
       "22151            Married  Municipal apartment  ...                 0   \n",
       "21572            Married    House / apartment  ...                 7   \n",
       "8328             Married    House / apartment  ...                 3   \n",
       "19787              Widow    House / apartment  ...                 3   \n",
       "12424            Married    House / apartment  ...                 2   \n",
       "\n",
       "       difference_score  odds_evens_score  begining_score  middle_score  \\\n",
       "22151                 0                 0               0             0   \n",
       "21572                -2                 9               4             6   \n",
       "8328                  0                 4               2             2   \n",
       "19787                 0                 4               2             2   \n",
       "12424                -1                 3               2             0   \n",
       "\n",
       "       ending_score spread_score  alpha_omgea_score  begining_ending_score  \\\n",
       "22151             0            0                  0                      0   \n",
       "21572             2            9                  3                      6   \n",
       "8328              2            4                  2                      4   \n",
       "19787             2            4                  2                      4   \n",
       "12424             1            0                  3                      3   \n",
       "\n",
       "       defaulted  \n",
       "22151          0  \n",
       "21572          0  \n",
       "8328           0  \n",
       "19787          0  \n",
       "12424          0  \n",
       "\n",
       "[5 rows x 82 columns]"
      ]
     },
     "execution_count": 3,
     "metadata": {},
     "output_type": "execute_result"
    }
   ],
   "source": [
    "train, validate, test = wrangle_credit()\n",
    "train.head()"
   ]
  },
  {
   "cell_type": "markdown",
   "metadata": {},
   "source": [
    "**Jump-to:** [Table of Contents](#Table-of-Contents) | [Goal](#Goal) | [Wrangle](#Wrangle) | [EDA](#EDA) | [Gender](#Gender) | [Visualizations](#Visualizations) | [Insightful](#Insightful-Visualizations) | [Hypothesis Testing](#Hypothesis-Testing) | [Modeling](#Modeling) | [Results and Conclusions](#Results-and-Conclusions) | [Next Steps](#Next-Steps) | [Appendix](#Appendix)"
   ]
  },
  {
   "cell_type": "markdown",
   "metadata": {},
   "source": [
    "# EDA\n",
    "\n",
    "When dealing with something as consequential as credit card approvals, it is important to make sure you aren't training your model with data that has been biased against a demographic class due to historical discrimination as this can reinforce cultural biases. Besides, it's also bad for business. Knowing this, we will begin by determining if ***gender*** can be inferred from other information within the application data. \n",
    "\n",
    "After we explore if gender can be inferred from other information, we will then explore the rest of the data by visualizing it. We will then conduct [hypothesis testing](#Hypothesis-Testing) on any [insightful visualization](#Insightful-Visualizations)  in order to determine which to use in modeling.\n",
    "\n",
    "---\n",
    "\n",
    "**Jump-to:** [Table of Contents](#Table-of-Contents) | [Goal](#Goal) | [Wrangle](#Wrangle) | [EDA](#EDA) | [Gender](#Gender) | [Visualizations](#Visualizations) | [Insightful](#Insightful-Visualizations) | [Hypothesis Testing](#Hypothesis-Testing) | [Modeling](#Modeling) | [Results and Conclusions](#Results-and-Conclusions) | [Next Steps](#Next-Steps) | [Appendix](#Appendix)"
   ]
  },
  {
   "cell_type": "markdown",
   "metadata": {},
   "source": [
    "# Gender\n",
    "\n",
    "In order to determine whether or not gender can be inferred from our data we have to conduct hypothesis tests. We will cross reference gender with the following features:\n",
    "\n",
    "> flag_own_car, flag_own_realty, cnt_children, amt_income_total, name_income_type\n",
    "\n",
    "We accomplished this by running Two-Sample; Two-Tail T-tests and found that each had a significant statistically relationship with gender. However, while income and gender have a relationship, gender and income may suffer from a third variable problem.  Intuitively, this makes sense as income is also greatly dependent upon occupation. A T-test would show the macro relationship between gender and income, but would not be able to account for other confounding factors. For more details on the gender pay gap, see [The True Story of the Gender Pay Gap](https://freakonomics.com/podcast/the-true-story-of-the-gender-pay-gap-a-new-freakonomics-radio-podcast/) & [What Can Uber Teach Us About the Gender Pay Gap](https://freakonomics.com/podcast/what-can-uber-teach-us-about-the-gender-pay-gap/) both by [Feakonomics Podcast](www.freakonomics.com).\n",
    "\n",
    "Next, we continue on with our EDA by exploring [other variables](#Visualizations) relationship with 'defaulted.'\n",
    "\n",
    "---\n",
    "**Jump-to:** [Table of Contents](#Table-of-Contents) | [Goal](#Goal) | [Wrangle](#Wrangle) | [EDA](#EDA) | [Gender](#Gender) | [Visualizations](#Visualizations) | [Insightful](#Insightful-Visualizations) | [Hypothesis Testing](#Hypothesis-Testing) | [Modeling](#Modeling) | [Results and Conclusions](#Results-and-Conclusions) | [Next Steps](#Next-Steps) | [Appendix](#Appendix)"
   ]
  },
  {
   "cell_type": "code",
   "execution_count": 4,
   "metadata": {},
   "outputs": [
    {
     "data": {
      "text/plain": [
       "F    11730\n",
       "M     5903\n",
       "Name: code_gender, dtype: int64"
      ]
     },
     "execution_count": 4,
     "metadata": {},
     "output_type": "execute_result"
    }
   ],
   "source": [
    "train.code_gender.value_counts()"
   ]
  },
  {
   "cell_type": "code",
   "execution_count": 5,
   "metadata": {},
   "outputs": [
    {
     "data": {
      "text/plain": [
       "Text(0.5, 0, 'Number of Applicants')"
      ]
     },
     "execution_count": 5,
     "metadata": {},
     "output_type": "execute_result"
    },
    {
     "data": {
      "image/png": "[encoded data removed]",
      "text/plain": [
       "<Figure size 432x288 with 1 Axes>"
      ]
     },
     "metadata": {
      "needs_background": "light"
     },
     "output_type": "display_data"
    }
   ],
   "source": [
    "train.code_gender.value_counts().sort_values().plot(kind = 'barh', color = ['dodgerblue', 'orange'])\n",
    "plt.title('Gender Comparison in Applicants')\n",
    "plt.ylabel('Gender')\n",
    "plt.xlabel('Number of Applicants')"
   ]
  },
  {
   "cell_type": "markdown",
   "metadata": {},
   "source": [
    "### What are the average default rates between men and women**"
   ]
  },
  {
   "cell_type": "code",
   "execution_count": 6,
   "metadata": {},
   "outputs": [
    {
     "name": "stdout",
     "output_type": "stream",
     "text": [
      "The average default for men is 0.0042. \n",
      "The average default rate for women is 0.0034\n"
     ]
    }
   ],
   "source": [
    "# Average default rate amongst males\n",
    "men = train[train.code_gender == 'M'].defaulted.mean()\n",
    "\n",
    "# Average default rate amongst females\n",
    "women = train[train.code_gender == 'F'].defaulted.mean()\n",
    "\n",
    "print(f\"The average default for men is {round(men, 4)}. \\nThe average default rate for women is {round(women, 4)}\")"
   ]
  },
  {
   "cell_type": "markdown",
   "metadata": {},
   "source": [
    "### Is there a relationship between gender and car ownership?"
   ]
  },
  {
   "cell_type": "code",
   "execution_count": 7,
   "metadata": {},
   "outputs": [
    {
     "name": "stdout",
     "output_type": "stream",
     "text": [
      "The average car ownership for men is 0.651. \n",
      "The average default rate for women is 0.2596\n"
     ]
    }
   ],
   "source": [
    "# Average car ownership amongst males\n",
    "men = train[train.code_gender == 'M'].flag_own_car.mean()\n",
    "\n",
    "# Average car ownership amongst females\n",
    "women = train[train.code_gender == 'F'].flag_own_car.mean()\n",
    "\n",
    "print(f\"The average car ownership for men is {round(men, 4)}. \\nThe average default rate for women is {round(women, 4)}\")\n",
    "\n"
   ]
  },
  {
   "cell_type": "code",
   "execution_count": 8,
   "metadata": {},
   "outputs": [
    {
     "name": "stdout",
     "output_type": "stream",
     "text": [
      "We reject the null hypothesis. Based on t-statistic, males own cars at a higher rate than females.\n"
     ]
    }
   ],
   "source": [
    "alpha = 0.05\n",
    "stat, p = stats.ttest_ind(train[train.code_gender == 'M'].flag_own_car, train[train.code_gender == 'F'].flag_own_car)\n",
    "\n",
    "if p < alpha:\n",
    "    print('We reject the null hypothesis. Based on t-statistic, males own cars at a higher rate than females.')\n",
    "else:\n",
    "    print('We fail to reject the null hypothesis.')"
   ]
  },
  {
   "cell_type": "markdown",
   "metadata": {},
   "source": [
    "### Is there a relationship between gender and realty ownership?"
   ]
  },
  {
   "cell_type": "code",
   "execution_count": 9,
   "metadata": {},
   "outputs": [
    {
     "name": "stdout",
     "output_type": "stream",
     "text": [
      "The average realty ownership rate for men is 0.6143. \n",
      "The average realty ownership rate for women is 0.6738\n"
     ]
    }
   ],
   "source": [
    "# Average home ownership amongst males\n",
    "men = train[train.code_gender == 'M'].flag_own_realty.mean()\n",
    "\n",
    "# Average home ownership amongst females\n",
    "women = train[train.code_gender == 'F'].flag_own_realty.mean()\n",
    "\n",
    "print(f\"The average realty ownership rate for men is {round(men, 4)}. \\nThe average realty ownership rate for women is {round(women, 4)}\")"
   ]
  },
  {
   "cell_type": "markdown",
   "metadata": {},
   "source": [
    "Males appear to own cars at a higher rate than females. We can validate this observation with a t-test:\n",
    "\n",
    "$H_0$: There is no difference in car ownership rates among males and females.  \n",
    "$H_0$: There is a difference in car ownership rates among males and females."
   ]
  },
  {
   "cell_type": "code",
   "execution_count": 10,
   "metadata": {},
   "outputs": [
    {
     "name": "stdout",
     "output_type": "stream",
     "text": [
      "We reject the null hypothesis. Based on t-statistic, males have more children than females.\n"
     ]
    }
   ],
   "source": [
    "alpha = 0.05\n",
    "stat, p = stats.ttest_ind(train[train.code_gender == 'M'].flag_own_car, train[train.code_gender == 'F'].flag_own_car)\n",
    "stat, p\n",
    "\n",
    "if p < alpha:\n",
    "    print('We reject the null hypothesis. Based on t-statistic, males have more children than females.')\n",
    "else:\n",
    "    print('We fail to reject the null hypothesis.')   "
   ]
  },
  {
   "cell_type": "markdown",
   "metadata": {},
   "source": [
    "### Is there a relationship between gender and the number of children?"
   ]
  },
  {
   "cell_type": "code",
   "execution_count": 11,
   "metadata": {},
   "outputs": [
    {
     "ename": "SyntaxError",
     "evalue": "invalid syntax (<ipython-input-11-02c4190b4f22>, line 7)",
     "output_type": "error",
     "traceback": [
      "\u001b[1;36m  File \u001b[1;32m\"<ipython-input-11-02c4190b4f22>\"\u001b[1;36m, line \u001b[1;32m7\u001b[0m\n\u001b[1;33m    print(f\"The average number of children for men is {round(men, 2)}. \\nThe average number of children for women is {round(women, 2)}\")flag_own_car, flag_own_realty\u001b[0m\n\u001b[1;37m                                                                                                                                        ^\u001b[0m\n\u001b[1;31mSyntaxError\u001b[0m\u001b[1;31m:\u001b[0m invalid syntax\n"
     ]
    }
   ],
   "source": [
    "# Average number of children amongst males\n",
    "men = train[train.code_gender == 'M'].cnt_children.mean()\n",
    "\n",
    "# Average number of children amongst females\n",
    "women = train[train.code_gender == 'F'].cnt_children.mean()\n",
    "\n",
    "print(f\"The average number of children for men is {round(men, 2)}. \\nThe average number of children for women is {round(women, 2)}\")flag_own_car, flag_own_realty"
   ]
  },
  {
   "cell_type": "markdown",
   "metadata": {},
   "source": [
    "Male applicants appear to have more children than female applicants. We can validate this with a t-test:\n",
    "\n",
    "$H_0$: There is no difference in the number of children between males and females  \n",
    "$H_a$: There is a difference in the number of children between males and females"
   ]
  },
  {
   "cell_type": "code",
   "execution_count": null,
   "metadata": {},
   "outputs": [],
   "source": [
    "stat, p = stats.ttest_ind(train[train.code_gender == 'M'].cnt_children, train[train.code_gender == 'F'].cnt_children)\n",
    "stat, p\n",
    "\n",
    "if p < alpha:\n",
    "    print('We reject the null hypothesis. Based on t-statistic, men have more children than females.')\n",
    "else:\n",
    "    print('We fail to reject the null hypothesis.')"
   ]
  },
  {
   "cell_type": "markdown",
   "metadata": {},
   "source": [
    "### Is there a relationship between gender and income?"
   ]
  },
  {
   "cell_type": "code",
   "execution_count": null,
   "metadata": {},
   "outputs": [],
   "source": [
    "# Average income amongst males\n",
    "men = train[train.code_gender == 'M'].amt_income_total.mean()\n",
    "\n",
    "# Average income amongst females\n",
    "women = train[train.code_gender == 'F'].amt_income_total.mean()\n",
    "\n",
    "print(f\"The average income for men is {round(men, 2)}. \\nThe average income for women is {round(women, 2)}\")"
   ]
  },
  {
   "cell_type": "markdown",
   "metadata": {},
   "source": [
    "Male applicants appear to have more higher incomes than female applicants. We can validate this with a t-test:\n",
    "\n",
    "$H_0$: There is no in income between males and females  \n",
    "$H_a$: There is a difference in income between males and females"
   ]
  },
  {
   "cell_type": "code",
   "execution_count": null,
   "metadata": {},
   "outputs": [],
   "source": [
    "stat, p = stats.ttest_ind(train[train.code_gender == 'M'].amt_income_total, train[train.code_gender == 'F'].amt_income_total)\n",
    "\n",
    "if p < alpha:\n",
    "    print('We reject the null hypothesis. Based on t-statistic, males have more income than females.')\n",
    "else:\n",
    "    print('We fail to reject the null hypothesis.')"
   ]
  },
  {
   "cell_type": "markdown",
   "metadata": {},
   "source": [
    "### Is there a relationship between gender and income type?"
   ]
  },
  {
   "cell_type": "code",
   "execution_count": null,
   "metadata": {},
   "outputs": [],
   "source": [
    "# Create a crosstab of gender and income type\n",
    "gender_income_type = pd.crosstab(train.code_gender, train.name_income_type)\n",
    "\n",
    "# Visualize intial crosstab\n",
    "gender_income_type"
   ]
  },
  {
   "cell_type": "code",
   "execution_count": null,
   "metadata": {},
   "outputs": [],
   "source": [
    "# Convert counts to percentages by column\n",
    "gender_income_type['Commercial associate'] = (gender_income_type['Commercial associate'] / gender_income_type['Commercial associate'].sum() * 100)\n",
    "gender_income_type['Pensioner'] = (gender_income_type['Pensioner'] / gender_income_type['Pensioner'].sum() * 100)\n",
    "gender_income_type['State servant'] = (gender_income_type['State servant'] / gender_income_type['State servant'].sum() * 100)\n",
    "gender_income_type['Student'] = (gender_income_type['Student'] / gender_income_type['Student'].sum() * 100)\n",
    "gender_income_type['Working'] = (gender_income_type['Working'] / gender_income_type['Working'].sum() * 100)\n",
    "\n",
    "# Visualize modified crosstab\n",
    "gender_income_type"
   ]
  },
  {
   "cell_type": "code",
   "execution_count": null,
   "metadata": {},
   "outputs": [],
   "source": [
    "# Visualize percentages as stacked bar for each gender\n",
    "gender_income_type[['Commercial associate', 'Pensioner', 'State servant', 'Student', 'Working']].T.plot(kind='bar', stacked=True, color = ['lightpink', 'deepskyblue'], figsize=(15,5))\n",
    "\n",
    "# Add title text\n",
    "plt.title('Gender Proportion of Different Income Types')\n",
    "\n",
    "# Add y-axis label\n",
    "plt.ylabel('Percentage')\n",
    "\n",
    "# Change orientation of x-tick labels for easier reading\n",
    "plt.xticks(rotation=45)\n",
    "\n",
    "# Add x-axis label\n",
    "plt.xlabel('Income Type')\n",
    "\n",
    "# Clarify label title\n",
    "plt.legend(title='Gender')\n",
    "\n",
    "# Show chart\n",
    "plt.show()"
   ]
  },
  {
   "cell_type": "code",
   "execution_count": null,
   "metadata": {},
   "outputs": [],
   "source": [
    "# Create a crosstab of gender and income type\n",
    "gender_income_type = pd.crosstab(train.code_gender, train.name_income_type) \n",
    "\n",
    "# Create a new column that is the sum of each row\n",
    "gender_income_type.loc[:,'Total'] = gender_income_type.sum(axis=1) \n",
    "\n",
    "# Convert quantities into percentages by row\n",
    "gender_income_type['Commercial associate'] = (gender_income_type['Commercial associate'] / gender_income_type['Total'] * 100)\n",
    "gender_income_type['Pensioner'] = (gender_income_type['Pensioner'] / gender_income_type['Total'] * 100)\n",
    "gender_income_type['State servant'] = (gender_income_type['State servant'] / gender_income_type['Total'] * 100)\n",
    "gender_income_type['Student'] = (gender_income_type['Student'] / gender_income_type['Total'] * 100)\n",
    "gender_income_type['Working'] = (gender_income_type['Working'] / gender_income_type['Total'] * 100)\n",
    "\n",
    "# View the dataframe\n",
    "gender_income_type"
   ]
  },
  {
   "cell_type": "code",
   "execution_count": null,
   "metadata": {},
   "outputs": [],
   "source": [
    "# Visualize percentages as stacked bar for each gender\n",
    "gender_income_type[['Commercial associate', 'Pensioner', 'State servant', 'Student', 'Working']].plot(kind='bar', stacked=True, figsize=(15,5))\n",
    "\n",
    "# Add title text\n",
    "plt.title('What Types of Jobs do Different Genders Hold?')\n",
    "\n",
    "# Add y-axis label\n",
    "plt.ylabel('Percentage')\n",
    "\n",
    "# Change orientation of x-tick labels for easier reading\n",
    "plt.xticks(rotation=0)\n",
    "\n",
    "# Add x-axis label\n",
    "plt.xlabel('Gender')\n",
    "\n",
    "# Clarify label title\n",
    "plt.legend(title='Type of Income')\n",
    "\n",
    "# Show chart\n",
    "plt.show()"
   ]
  },
  {
   "cell_type": "code",
   "execution_count": null,
   "metadata": {},
   "outputs": [],
   "source": [
    "gender_income_type_pensioner_working = pd.crosstab(train.code_gender, train.name_income_type)[['Pensioner', 'Working']]\n",
    "gender_income_type_pensioner_working"
   ]
  },
  {
   "cell_type": "markdown",
   "metadata": {},
   "source": [
    "## Visualizations\n",
    "\n",
    "***Summarize findsings here vizualizations below***\n",
    "\n",
    "---\n",
    "\n",
    "**Jump-to:** [Table of Contents](#Table-of-Contents) | [Goal](#Goal) | [Wrangle](#Wrangle) | [EDA](#EDA) | [Gender](#Gender) | [Visualizations](#Visualizations) | [Insightful](#Insightful-Visualizations) | [Hypothesis Testing](#Hypothesis-Testing) | [Modeling](#Modeling) | [Results and Conclusions](#Results-and-Conclusions) | [Next Steps](#Next-Steps) | [Appendix](#Appendix)"
   ]
  },
  {
   "cell_type": "code",
   "execution_count": null,
   "metadata": {},
   "outputs": [],
   "source": []
  },
  {
   "cell_type": "markdown",
   "metadata": {},
   "source": [
    "### Insightful Visualizations\n",
    "\n",
    "***This section is included to highlight useful visualizations with a quick link***\n",
    "\n",
    "---\n",
    "\n",
    "**Jump-to:** [Table of Contents](#Table-of-Contents) | [Goal](#Goal) | [Wrangle](#Wrangle) | [EDA](#EDA) | [Gender](#Gender) | [Visualizations](#Visualizations) | [Insightful](#Insightful-Visualizations) | [Hypothesis Testing](#Hypothesis-Testing) | [Modeling](#Modeling) | [Results and Conclusions](#Results-and-Conclusions) | [Next Steps](#Next-Steps) | [Appendix](#Appendix)"
   ]
  },
  {
   "cell_type": "code",
   "execution_count": null,
   "metadata": {},
   "outputs": [],
   "source": []
  },
  {
   "cell_type": "markdown",
   "metadata": {},
   "source": [
    "## Hypothesis Testing\n",
    "\n",
    "***summarize findings here***\n",
    "\n",
    "---\n",
    "\n",
    "**Jump-to:** [Table of Contents](#Table-of-Contents) | [Goal](#Goal) | [Wrangle](#Wrangle) | [EDA](#EDA) | [Gender](#Gender) | [Visualizations](#Visualizations) | [Insightful](#Insightful-Visualizations) | [Hypothesis Testing](#Hypothesis-Testing) | [Modeling](#Modeling) | [Results and Conclusions](#Results-and-Conclusions) | [Next Steps](#Next-Steps) | [Appendix](#Appendix)"
   ]
  },
  {
   "cell_type": "code",
   "execution_count": null,
   "metadata": {},
   "outputs": [],
   "source": []
  },
  {
   "cell_type": "markdown",
   "metadata": {},
   "source": [
    "# Modeling\n",
    "\n",
    "***Explain the models created here***\n",
    "\n",
    "---\n",
    "\n",
    "**Jump-to:** [Table of Contents](#Table-of-Contents) | [Goal](#Goal) | [Wrangle](#Wrangle) | [EDA](#EDA) | [Gender](#Gender) | [Visualizations](#Visualizations) | [Insightful](#Insightful-Visualizations) | [Hypothesis Testing](#Hypothesis-Testing) | [Modeling](#Modeling) | [Results and Conclusions](#Results-and-Conclusions) | [Next Steps](#Next-Steps) | [Appendix](#Appendix)"
   ]
  },
  {
   "cell_type": "code",
   "execution_count": null,
   "metadata": {},
   "outputs": [],
   "source": []
  },
  {
   "cell_type": "markdown",
   "metadata": {},
   "source": [
    "# Results and Conclusions\n",
    "\n",
    "***Explain the results from modeling minus the test here**\n",
    "\n",
    "---\n",
    "\n",
    "**Jump-to:** [Table of Contents](#Table-of-Contents) | [Goal](#Goal) | [Wrangle](#Wrangle) | [EDA](#EDA) | [Gender](#Gender) | [Visualizations](#Visualizations) | [Insightful](#Insightful-Visualizations) | [Hypothesis Testing](#Hypothesis-Testing) | [Modeling](#Modeling) | [Results and Conclusions](#Results-and-Conclusions) | [Next Steps](#Next-Steps) | [Appendix](#Appendix)"
   ]
  },
  {
   "cell_type": "code",
   "execution_count": null,
   "metadata": {},
   "outputs": [],
   "source": [
    "# Cell for running test model"
   ]
  },
  {
   "cell_type": "markdown",
   "metadata": {},
   "source": [
    "***how did the model perform on test***"
   ]
  },
  {
   "cell_type": "markdown",
   "metadata": {},
   "source": [
    "## Next Steps\n",
    "\n",
    "***Next steps here***\n",
    "\n",
    "\n",
    "---\n",
    "\n",
    "\n",
    "**Jump-to:** [Table of Contents](#Table-of-Contents) | [Goal](#Goal) | [Wrangle](#Wrangle) | [EDA](#EDA) | [Gender](#Gender) | [Visualizations](#Visualizations) | [Insightful](#Insightful-Visualizations) | [Hypothesis Testing](#Hypothesis-Testing) | [Modeling](#Modeling) | [Results and Conclusions](#Results-and-Conclusions) | [Next Steps](#Next-Steps) | [Appendix](#Appendix)"
   ]
  },
  {
   "cell_type": "markdown",
   "metadata": {},
   "source": [
    "# Appendix\n",
    "\n",
    "\n",
    "---\n",
    "\n",
    "**Jump-to:** [Table of Contents](#Table-of-Contents) | [Goal](#Goal) | [Wrangle](#Wrangle) | [EDA](#EDA) | [Gender](#Gender) | [Visualizations](#Visualizations) | [Insightful](#Insightful-Visualizations) | [Hypothesis Testing](#Hypothesis-Testing) | [Modeling](#Modeling) | [Results and Conclusions](#Results-and-Conclusions) | [Next Steps](#Next-Steps) | [Appendix](#Appendix)"
   ]
  },
  {
   "cell_type": "code",
   "execution_count": null,
   "metadata": {},
   "outputs": [],
   "source": []
  }
 ],
 "metadata": {
  "kernelspec": {
   "display_name": "Python 3",
   "language": "python",
   "name": "python3"
  },
  "language_info": {
   "codemirror_mode": {
    "name": "ipython",
    "version": 3
   },
   "file_extension": ".py",
   "mimetype": "text/x-python",
   "name": "python",
   "nbconvert_exporter": "python",
   "pygments_lexer": "ipython3",
   "version": "3.8.3"
  }
 },
 "nbformat": 4,
 "nbformat_minor": 4
}

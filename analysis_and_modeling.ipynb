{
 "cells": [
  {
   "cell_type": "markdown",
   "metadata": {},
   "source": [
    "# Table of Contents\n",
    "\n",
    "- [Goal](#Goal)\n",
    "- [Wrangle](#Wrangle)\n",
    "- [EDA](#Explore-Data-Analysis-(EDA))\n",
    "  - [Gender](#Gender)\n",
    "  - [Visualizations](#Visualization)\n",
    "  - [Insightful](#Insightful-Visualizations)\n",
    "  - [Hypthosis Testing](#Hypthosis-Testing)\n",
    "- [Modeling](#Modeling)\n",
    "- [Results and Conclusions](#Results-&-Conclusion)\n",
    "  - [Next Steps](#Next-Steps)"
   ]
  },
  {
   "cell_type": "code",
   "execution_count": 3,
   "metadata": {},
   "outputs": [
    {
     "name": "stdout",
     "output_type": "stream",
     "text": [
      "Initialized\n"
     ]
    }
   ],
   "source": [
    "import pandas as pd\n",
    "import numpy as np\n",
    "import matplotlib.pyplot as plt\n",
    "import seaborn as sns\n",
    "from math import sqrt\n",
    "import scipy.stats as stats\n",
    "from wranglev2 import wrangle_credit\n",
    "\n",
    "import warnings\n",
    "warnings.filterwarnings(\"ignore\")\n",
    "print('Initialized')"
   ]
  },
  {
   "cell_type": "markdown",
   "metadata": {},
   "source": [
    "# Goal\n",
    "\n",
    "The goal of this project is to...\n",
    "\n",
    "**Jump-to:** [Table of Contents](#Table-of-Contents) | [Goal](#Goal) | [Wrangle](#Wrangle) | [EDA](#Explore-Data-Analysis-(EDA)) | [Gender](#Gender) | [Visualizations](#Visualization) | [En Masse](#En-Masse) | [Insightful](#Insightful-Visualizations) | [Hypthosis Testing](#Hypthosis-Testing) | [Modeling](#Modeling) | [Results and Conclusions](#Results-&-Conclusion) | [Next Steps](#Next-Steps)"
   ]
  },
  {
   "cell_type": "markdown",
   "metadata": {},
   "source": [
    "# Wrangle\n",
    "\n",
    "All the prep/wrangle work is handled by the wrangle_credit function imported above. For an indpeth explination of how the wrangle_credit function works please see the [How-To Notebook](https://github.com/credit-risk-management-predictor/credit-risk-management-predictor/blob/main/how_to.ipynb).\n",
    "\n",
    "\n",
    "\n",
    "**Jump-to:** [Table of Contents](#Table-of-Contents) | [Goal](#Goal) | [Wrangle](#Wrangle) | [EDA](#Explore-Data-Analysis-(EDA)) | [Gender](#Gender) | [Visualizations](#Visualization) | [En Masse](#En-Masse) | [Insightful](#Insightful-Visualizations) | [Hypthosis Testing](#Hypthosis-Testing) | [Modeling](#Modeling) | [Results and Conclusions](#Results-&-Conclusion) | [Next Steps](#Next-Steps)"
   ]
  },
  {
   "cell_type": "code",
   "execution_count": 2,
   "metadata": {},
   "outputs": [
    {
     "name": "stdout",
     "output_type": "stream",
     "text": [
      "Help on function wrangle_credit in module wranglev2:\n",
      "\n",
      "wrangle_credit()\n",
      "    This function does the following:\n",
      "    * uses get_reports_data function to process credit_reports.csv data into the expanded DF \n",
      "    * uses get_application_data functionto process the application_record.csv into an apps DF\n",
      "    * uses encode_dummies function to create dummy variables from the categorical variables of the apps DF\n",
      "    * merges the apps and expanded DFs into a final_df on 'id'\n",
      "    * uses split_stratify_data on the final_df to create the train, validate, test data sets\n",
      "    * return train, validate, test data sets as DFs\n",
      "    Note - The create_scaled_x_y function will be used after EDA to avoid confusion.\n",
      "    Note 2 - Remember to drop columns not used as features such as age, gender, etc\n",
      "\n"
     ]
    }
   ],
   "source": [
    "help(wrangle_credit)"
   ]
  },
  {
   "cell_type": "markdown",
   "metadata": {},
   "source": [
    "# EDA\n",
    "\n",
    "When dealing with something as consequential as credit card approvals, it is important to make sure you aren't training your model with data that has been biased against a demographic class due to historical discrimination as this can reinforce cultural biases. Besides, it's also bad for business. Knowing this, we will begin by determining if ***gender*** can be inferred from other information within the application data. \n",
    "\n",
    "After we explore if gender can be inferred from other information, we will then explore the rest of the data by visualizing it and pulling any useful [insights](#Insightful-Visualizations) we can. From there, we will move on the [hypothesis testing](#Hypthosis-Testing) in order to determine which [features](#Chosen-Features) to use when building our model.\n",
    "\n",
    "**Jump-to:** [Table of Contents](#Table-of-Contents) | [Goal](#Goal) | [Wrangle](#Wrangle) | [EDA](#Explore-Data-Analysis-(EDA)) | [Gender](#Gender) | [Visualizations](#Visualization) | [En Masse](#En-Masse) | [Insightful](#Insightful-Visualizations) | [Hypthosis Testing](#Hypthosis-Testing) | [Modeling](#Modeling) | [Results and Conclusions](#Results-&-Conclusion) | [Next Steps](#Next-Steps)"
   ]
  },
  {
   "cell_type": "markdown",
   "metadata": {},
   "source": [
    "# Gender\n",
    "\n",
    "***Summarize findings here vizualizations below***\n",
    "\n",
    "\n",
    "**Jump-to:** [Table of Contents](#Table-of-Contents) | [Goal](#Goal) | [Wrangle](#Wrangle) | [EDA](#Explore-Data-Analysis-(EDA)) | [Gender](#Gender) | [Visualizations](#Visualization) | [En Masse](#En-Masse) | [Insightful](#Insightful-Visualizations) | [Hypthosis Testing](#Hypthosis-Testing) | [Modeling](#Modeling) | [Results and Conclusions](#Results-&-Conclusion) | [Next Steps](#Next-Steps)"
   ]
  },
  {
   "cell_type": "markdown",
   "metadata": {},
   "source": [
    "## Visualizations\n",
    "\n",
    "***Summarize findsings here vizualizations below***\n",
    "\n",
    "**Jump-to:** [Table of Contents](#Table-of-Contents) | [Goal](#Goal) | [Wrangle](#Wrangle) | [EDA](#Explore-Data-Analysis-(EDA)) | [Gender](#Gender) | [Visualizations](#Visualization) | [En Masse](#En-Masse) | [Insightful](#Insightful-Visualizations) | [Hypthosis Testing](#Hypthosis-Testing) | [Modeling](#Modeling) | [Results and Conclusions](#Results-&-Conclusion) | [Next Steps](#Next-Steps)"
   ]
  },
  {
   "cell_type": "code",
   "execution_count": null,
   "metadata": {},
   "outputs": [],
   "source": []
  },
  {
   "cell_type": "markdown",
   "metadata": {},
   "source": [
    "### Insightful Visualizations\n",
    "\n",
    "***This section is included to highlight useful visualizations with a quick link***\n",
    "\n",
    "**Jump-to:** [Table of Contents](#Table-of-Contents) | [Goal](#Goal) | [Wrangle](#Wrangle) | [EDA](#Explore-Data-Analysis-(EDA)) | [Gender](#Gender) | [Visualizations](#Visualization) | [En Masse](#En-Masse) | [Insightful](#Insightful-Visualizations) | [Hypthosis Testing](#Hypthosis-Testing) | [Modeling](#Modeling) | [Results and Conclusions](#Results-&-Conclusion) | [Next Steps](#Next-Steps)"
   ]
  },
  {
   "cell_type": "code",
   "execution_count": null,
   "metadata": {},
   "outputs": [],
   "source": []
  },
  {
   "cell_type": "markdown",
   "metadata": {},
   "source": [
    "## Hypthosis Testing\n",
    "\n",
    "***summarize findings here***\n",
    "\n",
    "**Jump-to:** [Table of Contents](#Table-of-Contents) | [Goal](#Goal) | [Wrangle](#Wrangle) | [EDA](#Explore-Data-Analysis-(EDA)) | [Gender](#Gender) | [Visualizations](#Visualization) | [En Masse](#En-Masse) | [Insightful](#Insightful-Visualizations) | [Hypthosis Testing](#Hypthosis-Testing) | [Modeling](#Modeling) | [Results and Conclusions](#Results-&-Conclusion) | [Next Steps](#Next-Steps)"
   ]
  },
  {
   "cell_type": "code",
   "execution_count": null,
   "metadata": {},
   "outputs": [],
   "source": []
  },
  {
   "cell_type": "markdown",
   "metadata": {},
   "source": [
    "# Modeling\n",
    "\n",
    "***Explain the models created here***\n",
    "\n",
    "**Jump-to:** [Table of Contents](#Table-of-Contents) | [Goal](#Goal) | [Wrangle](#Wrangle) | [EDA](#Explore-Data-Analysis-(EDA)) | [Gender](#Gender) | [Visualizations](#Visualization) | [En Masse](#En-Masse) | [Insightful](#Insightful-Visualizations) | [Hypthosis Testing](#Hypthosis-Testing) | [Modeling](#Modeling) | [Results and Conclusions](#Results-&-Conclusion) | [Next Steps](#Next-Steps)"
   ]
  },
  {
   "cell_type": "code",
   "execution_count": null,
   "metadata": {},
   "outputs": [],
   "source": []
  },
  {
   "cell_type": "markdown",
   "metadata": {},
   "source": [
    "# Results and Conclusions\n",
    "\n",
    "***Explain the results from modeling minus the test here**"
   ]
  },
  {
   "cell_type": "code",
   "execution_count": 4,
   "metadata": {},
   "outputs": [],
   "source": [
    "# Cell for running test model"
   ]
  },
  {
   "cell_type": "markdown",
   "metadata": {},
   "source": [
    "***how did the model perform on test***"
   ]
  },
  {
   "cell_type": "markdown",
   "metadata": {},
   "source": [
    "## Next Steps\n",
    "\n",
    "***Next steps here***\n",
    "\n",
    "\n",
    "**Jump-to:** [Table of Contents](#Table-of-Contents) | [Goal](#Goal) | [Wrangle](#Wrangle) | [EDA](#Explore-Data-Analysis-(EDA)) | [Gender](#Gender) | [Visualizations](#Visualization) | [En Masse](#En-Masse) | [Insightful](#Insightful-Visualizations) | [Hypthosis Testing](#Hypthosis-Testing) | [Modeling](#Modeling) | [Results and Conclusions](#Results-&-Conclusion) | [Next Steps](#Next-Steps)"
   ]
  },
  {
   "cell_type": "markdown",
   "metadata": {},
   "source": [
    "# Appendix\n",
    "\n",
    "**Jump-to:** [Table of Contents](#Table-of-Contents) | [Goal](#Goal) | [Wrangle](#Wrangle) | [EDA](#Explore-Data-Analysis-(EDA)) | [Gender](#Gender) | [Visualizations](#Visualization) | [En Masse](#En-Masse) | [Insightful](#Insightful-Visualizations) | [Hypthosis Testing](#Hypthosis-Testing) | [Modeling](#Modeling) | [Results and Conclusions](#Results-&-Conclusion) | [Next Steps](#Next-Steps)"
   ]
  },
  {
   "cell_type": "code",
   "execution_count": null,
   "metadata": {},
   "outputs": [],
   "source": []
  }
 ],
 "metadata": {
  "kernelspec": {
   "display_name": "Python 3",
   "language": "python",
   "name": "python3"
  },
  "language_info": {
   "codemirror_mode": {
    "name": "ipython",
    "version": 3
   },
   "file_extension": ".py",
   "mimetype": "text/x-python",
   "name": "python",
   "nbconvert_exporter": "python",
   "pygments_lexer": "ipython3",
   "version": "3.8.3"
  }
 },
 "nbformat": 4,
 "nbformat_minor": 4
}

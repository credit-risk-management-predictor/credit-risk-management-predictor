{
 "cells": [
  {
   "cell_type": "code",
   "execution_count": 7,
   "metadata": {},
   "outputs": [],
   "source": [
    "import pandas as pd\n",
    "import seaborn as sns\n",
    "import matplotlib as plt\n",
    "import anthony_wrangle"
   ]
  },
  {
   "cell_type": "code",
   "execution_count": 3,
   "metadata": {},
   "outputs": [],
   "source": [
    "train, validate, test = anthony_wrangle.wrangle_credit()"
   ]
  },
  {
   "cell_type": "code",
   "execution_count": 4,
   "metadata": {},
   "outputs": [
    {
     "data": {
      "text/plain": [
       "((26248, 49), (6563, 49), (3646, 49))"
      ]
     },
     "execution_count": 4,
     "metadata": {},
     "output_type": "execute_result"
    }
   ],
   "source": [
    "train.shape, validate.shape, test.shape"
   ]
  },
  {
   "cell_type": "code",
   "execution_count": 5,
   "metadata": {},
   "outputs": [
    {
     "data": {
      "text/html": [
       "<div>\n",
       "<style scoped>\n",
       "    .dataframe tbody tr th:only-of-type {\n",
       "        vertical-align: middle;\n",
       "    }\n",
       "\n",
       "    .dataframe tbody tr th {\n",
       "        vertical-align: top;\n",
       "    }\n",
       "\n",
       "    .dataframe thead th {\n",
       "        text-align: right;\n",
       "    }\n",
       "</style>\n",
       "<table border=\"1\" class=\"dataframe\">\n",
       "  <thead>\n",
       "    <tr style=\"text-align: right;\">\n",
       "      <th></th>\n",
       "      <th>id</th>\n",
       "      <th>flag_own_car</th>\n",
       "      <th>flag_own_realty</th>\n",
       "      <th>cnt_children</th>\n",
       "      <th>amt_income_total</th>\n",
       "      <th>days_birth</th>\n",
       "      <th>days_employed</th>\n",
       "      <th>flag_mobil</th>\n",
       "      <th>flag_work_phone</th>\n",
       "      <th>flag_phone</th>\n",
       "      <th>...</th>\n",
       "      <th>occupation_type_managers</th>\n",
       "      <th>occupation_type_medicine_staff</th>\n",
       "      <th>occupation_type_other</th>\n",
       "      <th>occupation_type_private_service_staff</th>\n",
       "      <th>occupation_type_realty_agents</th>\n",
       "      <th>occupation_type_sales_staff</th>\n",
       "      <th>occupation_type_secretaries</th>\n",
       "      <th>occupation_type_security_staff</th>\n",
       "      <th>occupation_type_waiters/barmen_staff</th>\n",
       "      <th>score</th>\n",
       "    </tr>\n",
       "  </thead>\n",
       "  <tbody>\n",
       "    <tr>\n",
       "      <th>32073</th>\n",
       "      <td>5135805</td>\n",
       "      <td>0</td>\n",
       "      <td>1</td>\n",
       "      <td>0</td>\n",
       "      <td>90000.0</td>\n",
       "      <td>19482</td>\n",
       "      <td>2878</td>\n",
       "      <td>1</td>\n",
       "      <td>0</td>\n",
       "      <td>0</td>\n",
       "      <td>...</td>\n",
       "      <td>0</td>\n",
       "      <td>0</td>\n",
       "      <td>0</td>\n",
       "      <td>0</td>\n",
       "      <td>0</td>\n",
       "      <td>0</td>\n",
       "      <td>0</td>\n",
       "      <td>0</td>\n",
       "      <td>0</td>\n",
       "      <td>-40.0</td>\n",
       "    </tr>\n",
       "    <tr>\n",
       "      <th>31598</th>\n",
       "      <td>5132791</td>\n",
       "      <td>0</td>\n",
       "      <td>1</td>\n",
       "      <td>2</td>\n",
       "      <td>180000.0</td>\n",
       "      <td>13361</td>\n",
       "      <td>6586</td>\n",
       "      <td>1</td>\n",
       "      <td>1</td>\n",
       "      <td>0</td>\n",
       "      <td>...</td>\n",
       "      <td>0</td>\n",
       "      <td>0</td>\n",
       "      <td>0</td>\n",
       "      <td>0</td>\n",
       "      <td>0</td>\n",
       "      <td>0</td>\n",
       "      <td>0</td>\n",
       "      <td>0</td>\n",
       "      <td>0</td>\n",
       "      <td>14.0</td>\n",
       "    </tr>\n",
       "    <tr>\n",
       "      <th>24158</th>\n",
       "      <td>5096773</td>\n",
       "      <td>0</td>\n",
       "      <td>0</td>\n",
       "      <td>0</td>\n",
       "      <td>171000.0</td>\n",
       "      <td>21700</td>\n",
       "      <td>13879</td>\n",
       "      <td>1</td>\n",
       "      <td>0</td>\n",
       "      <td>0</td>\n",
       "      <td>...</td>\n",
       "      <td>0</td>\n",
       "      <td>0</td>\n",
       "      <td>1</td>\n",
       "      <td>0</td>\n",
       "      <td>0</td>\n",
       "      <td>0</td>\n",
       "      <td>0</td>\n",
       "      <td>0</td>\n",
       "      <td>0</td>\n",
       "      <td>74.0</td>\n",
       "    </tr>\n",
       "    <tr>\n",
       "      <th>34581</th>\n",
       "      <td>5146247</td>\n",
       "      <td>0</td>\n",
       "      <td>1</td>\n",
       "      <td>0</td>\n",
       "      <td>238500.0</td>\n",
       "      <td>23171</td>\n",
       "      <td>13879</td>\n",
       "      <td>1</td>\n",
       "      <td>0</td>\n",
       "      <td>0</td>\n",
       "      <td>...</td>\n",
       "      <td>0</td>\n",
       "      <td>0</td>\n",
       "      <td>1</td>\n",
       "      <td>0</td>\n",
       "      <td>0</td>\n",
       "      <td>0</td>\n",
       "      <td>0</td>\n",
       "      <td>0</td>\n",
       "      <td>0</td>\n",
       "      <td>93.0</td>\n",
       "    </tr>\n",
       "    <tr>\n",
       "      <th>16771</th>\n",
       "      <td>5067027</td>\n",
       "      <td>0</td>\n",
       "      <td>1</td>\n",
       "      <td>1</td>\n",
       "      <td>135000.0</td>\n",
       "      <td>13589</td>\n",
       "      <td>1649</td>\n",
       "      <td>1</td>\n",
       "      <td>0</td>\n",
       "      <td>0</td>\n",
       "      <td>...</td>\n",
       "      <td>0</td>\n",
       "      <td>0</td>\n",
       "      <td>0</td>\n",
       "      <td>0</td>\n",
       "      <td>0</td>\n",
       "      <td>0</td>\n",
       "      <td>0</td>\n",
       "      <td>0</td>\n",
       "      <td>1</td>\n",
       "      <td>38.0</td>\n",
       "    </tr>\n",
       "  </tbody>\n",
       "</table>\n",
       "<p>5 rows × 49 columns</p>\n",
       "</div>"
      ],
      "text/plain": [
       "            id  flag_own_car  flag_own_realty  cnt_children  amt_income_total  \\\n",
       "32073  5135805             0                1             0           90000.0   \n",
       "31598  5132791             0                1             2          180000.0   \n",
       "24158  5096773             0                0             0          171000.0   \n",
       "34581  5146247             0                1             0          238500.0   \n",
       "16771  5067027             0                1             1          135000.0   \n",
       "\n",
       "       days_birth  days_employed  flag_mobil  flag_work_phone  flag_phone  \\\n",
       "32073       19482           2878           1                0           0   \n",
       "31598       13361           6586           1                1           0   \n",
       "24158       21700          13879           1                0           0   \n",
       "34581       23171          13879           1                0           0   \n",
       "16771       13589           1649           1                0           0   \n",
       "\n",
       "       ...  occupation_type_managers  occupation_type_medicine_staff  \\\n",
       "32073  ...                         0                               0   \n",
       "31598  ...                         0                               0   \n",
       "24158  ...                         0                               0   \n",
       "34581  ...                         0                               0   \n",
       "16771  ...                         0                               0   \n",
       "\n",
       "       occupation_type_other  occupation_type_private_service_staff  \\\n",
       "32073                      0                                      0   \n",
       "31598                      0                                      0   \n",
       "24158                      1                                      0   \n",
       "34581                      1                                      0   \n",
       "16771                      0                                      0   \n",
       "\n",
       "       occupation_type_realty_agents  occupation_type_sales_staff  \\\n",
       "32073                              0                            0   \n",
       "31598                              0                            0   \n",
       "24158                              0                            0   \n",
       "34581                              0                            0   \n",
       "16771                              0                            0   \n",
       "\n",
       "       occupation_type_secretaries  occupation_type_security_staff  \\\n",
       "32073                            0                               0   \n",
       "31598                            0                               0   \n",
       "24158                            0                               0   \n",
       "34581                            0                               0   \n",
       "16771                            0                               0   \n",
       "\n",
       "       occupation_type_waiters/barmen_staff  score  \n",
       "32073                                     0  -40.0  \n",
       "31598                                     0   14.0  \n",
       "24158                                     0   74.0  \n",
       "34581                                     0   93.0  \n",
       "16771                                     1   38.0  \n",
       "\n",
       "[5 rows x 49 columns]"
      ]
     },
     "execution_count": 5,
     "metadata": {},
     "output_type": "execute_result"
    }
   ],
   "source": [
    "train.head()"
   ]
  },
  {
   "cell_type": "code",
   "execution_count": 6,
   "metadata": {},
   "outputs": [
    {
     "name": "stdout",
     "output_type": "stream",
     "text": [
      "<class 'pandas.core.frame.DataFrame'>\n",
      "Int64Index: 26248 entries, 32073 to 18632\n",
      "Data columns (total 49 columns):\n",
      " #   Column                                             Non-Null Count  Dtype  \n",
      "---  ------                                             --------------  -----  \n",
      " 0   id                                                 26248 non-null  object \n",
      " 1   flag_own_car                                       26248 non-null  int64  \n",
      " 2   flag_own_realty                                    26248 non-null  int64  \n",
      " 3   cnt_children                                       26248 non-null  int64  \n",
      " 4   amt_income_total                                   26248 non-null  float64\n",
      " 5   days_birth                                         26248 non-null  int64  \n",
      " 6   days_employed                                      26248 non-null  int64  \n",
      " 7   flag_mobil                                         26248 non-null  int64  \n",
      " 8   flag_work_phone                                    26248 non-null  int64  \n",
      " 9   flag_phone                                         26248 non-null  int64  \n",
      " 10  flag_email                                         26248 non-null  int64  \n",
      " 11  cnt_fam_members                                    26248 non-null  float64\n",
      " 12  employed_years                                     26248 non-null  float64\n",
      " 13  name_income_type_commercial_associate              26248 non-null  uint8  \n",
      " 14  name_income_type_pensioner                         26248 non-null  uint8  \n",
      " 15  name_income_type_state_servant                     26248 non-null  uint8  \n",
      " 16  name_income_type_student                           26248 non-null  uint8  \n",
      " 17  name_income_type_working                           26248 non-null  uint8  \n",
      " 18  name_education_type_academic_degree                26248 non-null  uint8  \n",
      " 19  name_education_type_higher_education               26248 non-null  uint8  \n",
      " 20  name_education_type_incomplete_higher              26248 non-null  uint8  \n",
      " 21  name_education_type_lower_secondary                26248 non-null  uint8  \n",
      " 22  name_education_type_secondary_/_secondary_special  26248 non-null  uint8  \n",
      " 23  name_housing_type_co-op_apartment                  26248 non-null  uint8  \n",
      " 24  name_housing_type_house_/_apartment                26248 non-null  uint8  \n",
      " 25  name_housing_type_municipal_apartment              26248 non-null  uint8  \n",
      " 26  name_housing_type_office_apartment                 26248 non-null  uint8  \n",
      " 27  name_housing_type_rented_apartment                 26248 non-null  uint8  \n",
      " 28  name_housing_type_with_parents                     26248 non-null  uint8  \n",
      " 29  occupation_type_accountants                        26248 non-null  uint8  \n",
      " 30  occupation_type_cleaning_staff                     26248 non-null  uint8  \n",
      " 31  occupation_type_cooking_staff                      26248 non-null  uint8  \n",
      " 32  occupation_type_core_staff                         26248 non-null  uint8  \n",
      " 33  occupation_type_drivers                            26248 non-null  uint8  \n",
      " 34  occupation_type_hr_staff                           26248 non-null  uint8  \n",
      " 35  occupation_type_high_skill_tech_staff              26248 non-null  uint8  \n",
      " 36  occupation_type_it_staff                           26248 non-null  uint8  \n",
      " 37  occupation_type_laborers                           26248 non-null  uint8  \n",
      " 38  occupation_type_low-skill_laborers                 26248 non-null  uint8  \n",
      " 39  occupation_type_managers                           26248 non-null  uint8  \n",
      " 40  occupation_type_medicine_staff                     26248 non-null  uint8  \n",
      " 41  occupation_type_other                              26248 non-null  uint8  \n",
      " 42  occupation_type_private_service_staff              26248 non-null  uint8  \n",
      " 43  occupation_type_realty_agents                      26248 non-null  uint8  \n",
      " 44  occupation_type_sales_staff                        26248 non-null  uint8  \n",
      " 45  occupation_type_secretaries                        26248 non-null  uint8  \n",
      " 46  occupation_type_security_staff                     26248 non-null  uint8  \n",
      " 47  occupation_type_waiters/barmen_staff               26248 non-null  uint8  \n",
      " 48  score                                              26248 non-null  float64\n",
      "dtypes: float64(4), int64(9), object(1), uint8(35)\n",
      "memory usage: 3.9+ MB\n"
     ]
    }
   ],
   "source": [
    "train.info()"
   ]
  },
  {
   "cell_type": "code",
   "execution_count": 9,
   "metadata": {},
   "outputs": [
    {
     "name": "stderr",
     "output_type": "stream",
     "text": [
      "/usr/local/anaconda3/lib/python3.7/site-packages/seaborn/_decorators.py:43: FutureWarning: Pass the following variables as keyword args: x, y. From version 0.12, the only valid positional argument will be `data`, and passing other arguments without an explicit keyword will result in an error or misinterpretation.\n",
      "  FutureWarning\n"
     ]
    },
    {
     "data": {
      "image/png": "[encoded data removed]",
      "text/plain": [
       "<Figure size 360x360 with 3 Axes>"
      ]
     },
     "metadata": {},
     "output_type": "display_data"
    }
   ],
   "source": [
    "with sns.axes_style('white'):\n",
    "    j = sns.jointplot(\"amt_income_total\", \"score\", data=train, kind='reg', height=5);\n"
   ]
  },
  {
   "cell_type": "code",
   "execution_count": 10,
   "metadata": {},
   "outputs": [
    {
     "data": {
      "text/plain": [
       "135000.0     3130\n",
       "180000.0     2266\n",
       "157500.0     2260\n",
       "112500.0     2107\n",
       "225000.0     2103\n",
       "             ... \n",
       "160200.0        1\n",
       "432000.0        1\n",
       "1125000.0       1\n",
       "177012.0        1\n",
       "204750.0        1\n",
       "Name: amt_income_total, Length: 253, dtype: int64"
      ]
     },
     "execution_count": 10,
     "metadata": {},
     "output_type": "execute_result"
    }
   ],
   "source": [
    "train.amt_income_total.value_counts()"
   ]
  },
  {
   "cell_type": "code",
   "execution_count": 11,
   "metadata": {},
   "outputs": [
    {
     "name": "stderr",
     "output_type": "stream",
     "text": [
      "/usr/local/anaconda3/lib/python3.7/site-packages/seaborn/_decorators.py:43: FutureWarning: Pass the following variables as keyword args: x, y. From version 0.12, the only valid positional argument will be `data`, and passing other arguments without an explicit keyword will result in an error or misinterpretation.\n",
      "  FutureWarning\n"
     ]
    },
    {
     "data": {
      "image/png": "[encoded data removed]",
      "text/plain": [
       "<Figure size 360x360 with 3 Axes>"
      ]
     },
     "metadata": {},
     "output_type": "display_data"
    }
   ],
   "source": [
    "with sns.axes_style('white'):\n",
    "    j = sns.jointplot(\"days_birth\", \"score\", data=train, kind='reg', height=5);\n"
   ]
  },
  {
   "cell_type": "code",
   "execution_count": 12,
   "metadata": {},
   "outputs": [
    {
     "name": "stderr",
     "output_type": "stream",
     "text": [
      "/usr/local/anaconda3/lib/python3.7/site-packages/seaborn/_decorators.py:43: FutureWarning: Pass the following variables as keyword args: x, y. From version 0.12, the only valid positional argument will be `data`, and passing other arguments without an explicit keyword will result in an error or misinterpretation.\n",
      "  FutureWarning\n"
     ]
    },
    {
     "data": {
      "image/png": "[encoded data removed]",
      "text/plain": [
       "<Figure size 360x360 with 3 Axes>"
      ]
     },
     "metadata": {},
     "output_type": "display_data"
    }
   ],
   "source": [
    "with sns.axes_style('white'):\n",
    "    j = sns.jointplot(\"days_employed\", \"score\", data=train, kind='reg', height=5);"
   ]
  },
  {
   "cell_type": "code",
   "execution_count": 13,
   "metadata": {},
   "outputs": [
    {
     "data": {
      "text/plain": [
       "26.0     714\n",
       "32.0     611\n",
       "34.0     610\n",
       "28.0     588\n",
       "30.0     588\n",
       "        ... \n",
       "113.0      1\n",
       "147.0      1\n",
       "143.0      1\n",
       "158.0      1\n",
       "135.0      1\n",
       "Name: score, Length: 234, dtype: int64"
      ]
     },
     "execution_count": 13,
     "metadata": {},
     "output_type": "execute_result"
    }
   ],
   "source": [
    "train.score.value_counts()"
   ]
  },
  {
   "cell_type": "code",
   "execution_count": 14,
   "metadata": {},
   "outputs": [
    {
     "data": {
      "text/plain": [
       "-81.0"
      ]
     },
     "execution_count": 14,
     "metadata": {},
     "output_type": "execute_result"
    }
   ],
   "source": [
    "min(train.score)"
   ]
  },
  {
   "cell_type": "code",
   "execution_count": 15,
   "metadata": {},
   "outputs": [
    {
     "data": {
      "text/plain": [
       "316.0"
      ]
     },
     "execution_count": 15,
     "metadata": {},
     "output_type": "execute_result"
    }
   ],
   "source": [
    "max(train.score)"
   ]
  },
  {
   "cell_type": "code",
   "execution_count": 17,
   "metadata": {},
   "outputs": [
    {
     "data": {
      "text/plain": [
       "<AxesSubplot:ylabel='Frequency'>"
      ]
     },
     "execution_count": 17,
     "metadata": {},
     "output_type": "execute_result"
    },
    {
     "data": {
      "image/png": "[encoded data removed]",
      "text/plain": [
       "<Figure size 432x288 with 1 Axes>"
      ]
     },
     "metadata": {
      "needs_background": "light"
     },
     "output_type": "display_data"
    }
   ],
   "source": [
    "train['score'].plot(kind='hist')"
   ]
  },
  {
   "cell_type": "code",
   "execution_count": 18,
   "metadata": {},
   "outputs": [
    {
     "data": {
      "text/plain": [
       "count    26248.000000\n",
       "mean        26.020954\n",
       "std         31.704498\n",
       "min        -81.000000\n",
       "25%          7.000000\n",
       "50%         24.000000\n",
       "75%         44.000000\n",
       "max        316.000000\n",
       "Name: score, dtype: float64"
      ]
     },
     "execution_count": 18,
     "metadata": {},
     "output_type": "execute_result"
    }
   ],
   "source": [
    "train.score.describe()"
   ]
  },
  {
   "cell_type": "code",
   "execution_count": 19,
   "metadata": {},
   "outputs": [],
   "source": [
    "#Negative score indicates a 'good' credit canditate. \n",
    "#It's a combination of making payments on time and length of credit history."
   ]
  },
  {
   "cell_type": "code",
   "execution_count": 20,
   "metadata": {},
   "outputs": [
    {
     "data": {
      "text/plain": [
       "32073    (-81.001, 7.0]\n",
       "31598       (7.0, 24.0]\n",
       "24158     (44.0, 316.0]\n",
       "34581     (44.0, 316.0]\n",
       "16771      (24.0, 44.0]\n",
       "              ...      \n",
       "4339        (7.0, 24.0]\n",
       "29856       (7.0, 24.0]\n",
       "10997      (24.0, 44.0]\n",
       "36434    (-81.001, 7.0]\n",
       "18632      (24.0, 44.0]\n",
       "Name: score, Length: 26248, dtype: category\n",
       "Categories (4, interval[float64]): [(-81.001, 7.0] < (7.0, 24.0] < (24.0, 44.0] < (44.0, 316.0]]"
      ]
     },
     "execution_count": 20,
     "metadata": {},
     "output_type": "execute_result"
    }
   ],
   "source": [
    "pd.qcut(train['score'], q=4)"
   ]
  },
  {
   "cell_type": "code",
   "execution_count": 23,
   "metadata": {},
   "outputs": [],
   "source": [
    "train['quantile_score'] = pd.qcut(train['score'], q=4)"
   ]
  },
  {
   "cell_type": "code",
   "execution_count": 24,
   "metadata": {},
   "outputs": [
    {
     "data": {
      "text/html": [
       "<div>\n",
       "<style scoped>\n",
       "    .dataframe tbody tr th:only-of-type {\n",
       "        vertical-align: middle;\n",
       "    }\n",
       "\n",
       "    .dataframe tbody tr th {\n",
       "        vertical-align: top;\n",
       "    }\n",
       "\n",
       "    .dataframe thead th {\n",
       "        text-align: right;\n",
       "    }\n",
       "</style>\n",
       "<table border=\"1\" class=\"dataframe\">\n",
       "  <thead>\n",
       "    <tr style=\"text-align: right;\">\n",
       "      <th></th>\n",
       "      <th>id</th>\n",
       "      <th>flag_own_car</th>\n",
       "      <th>flag_own_realty</th>\n",
       "      <th>cnt_children</th>\n",
       "      <th>amt_income_total</th>\n",
       "      <th>days_birth</th>\n",
       "      <th>days_employed</th>\n",
       "      <th>flag_mobil</th>\n",
       "      <th>flag_work_phone</th>\n",
       "      <th>flag_phone</th>\n",
       "      <th>...</th>\n",
       "      <th>occupation_type_medicine_staff</th>\n",
       "      <th>occupation_type_other</th>\n",
       "      <th>occupation_type_private_service_staff</th>\n",
       "      <th>occupation_type_realty_agents</th>\n",
       "      <th>occupation_type_sales_staff</th>\n",
       "      <th>occupation_type_secretaries</th>\n",
       "      <th>occupation_type_security_staff</th>\n",
       "      <th>occupation_type_waiters/barmen_staff</th>\n",
       "      <th>score</th>\n",
       "      <th>quantile_score</th>\n",
       "    </tr>\n",
       "  </thead>\n",
       "  <tbody>\n",
       "    <tr>\n",
       "      <th>32073</th>\n",
       "      <td>5135805</td>\n",
       "      <td>0</td>\n",
       "      <td>1</td>\n",
       "      <td>0</td>\n",
       "      <td>90000.0</td>\n",
       "      <td>19482</td>\n",
       "      <td>2878</td>\n",
       "      <td>1</td>\n",
       "      <td>0</td>\n",
       "      <td>0</td>\n",
       "      <td>...</td>\n",
       "      <td>0</td>\n",
       "      <td>0</td>\n",
       "      <td>0</td>\n",
       "      <td>0</td>\n",
       "      <td>0</td>\n",
       "      <td>0</td>\n",
       "      <td>0</td>\n",
       "      <td>0</td>\n",
       "      <td>-40.0</td>\n",
       "      <td>(-81.001, 7.0]</td>\n",
       "    </tr>\n",
       "    <tr>\n",
       "      <th>31598</th>\n",
       "      <td>5132791</td>\n",
       "      <td>0</td>\n",
       "      <td>1</td>\n",
       "      <td>2</td>\n",
       "      <td>180000.0</td>\n",
       "      <td>13361</td>\n",
       "      <td>6586</td>\n",
       "      <td>1</td>\n",
       "      <td>1</td>\n",
       "      <td>0</td>\n",
       "      <td>...</td>\n",
       "      <td>0</td>\n",
       "      <td>0</td>\n",
       "      <td>0</td>\n",
       "      <td>0</td>\n",
       "      <td>0</td>\n",
       "      <td>0</td>\n",
       "      <td>0</td>\n",
       "      <td>0</td>\n",
       "      <td>14.0</td>\n",
       "      <td>(7.0, 24.0]</td>\n",
       "    </tr>\n",
       "    <tr>\n",
       "      <th>24158</th>\n",
       "      <td>5096773</td>\n",
       "      <td>0</td>\n",
       "      <td>0</td>\n",
       "      <td>0</td>\n",
       "      <td>171000.0</td>\n",
       "      <td>21700</td>\n",
       "      <td>13879</td>\n",
       "      <td>1</td>\n",
       "      <td>0</td>\n",
       "      <td>0</td>\n",
       "      <td>...</td>\n",
       "      <td>0</td>\n",
       "      <td>1</td>\n",
       "      <td>0</td>\n",
       "      <td>0</td>\n",
       "      <td>0</td>\n",
       "      <td>0</td>\n",
       "      <td>0</td>\n",
       "      <td>0</td>\n",
       "      <td>74.0</td>\n",
       "      <td>(44.0, 316.0]</td>\n",
       "    </tr>\n",
       "    <tr>\n",
       "      <th>34581</th>\n",
       "      <td>5146247</td>\n",
       "      <td>0</td>\n",
       "      <td>1</td>\n",
       "      <td>0</td>\n",
       "      <td>238500.0</td>\n",
       "      <td>23171</td>\n",
       "      <td>13879</td>\n",
       "      <td>1</td>\n",
       "      <td>0</td>\n",
       "      <td>0</td>\n",
       "      <td>...</td>\n",
       "      <td>0</td>\n",
       "      <td>1</td>\n",
       "      <td>0</td>\n",
       "      <td>0</td>\n",
       "      <td>0</td>\n",
       "      <td>0</td>\n",
       "      <td>0</td>\n",
       "      <td>0</td>\n",
       "      <td>93.0</td>\n",
       "      <td>(44.0, 316.0]</td>\n",
       "    </tr>\n",
       "    <tr>\n",
       "      <th>16771</th>\n",
       "      <td>5067027</td>\n",
       "      <td>0</td>\n",
       "      <td>1</td>\n",
       "      <td>1</td>\n",
       "      <td>135000.0</td>\n",
       "      <td>13589</td>\n",
       "      <td>1649</td>\n",
       "      <td>1</td>\n",
       "      <td>0</td>\n",
       "      <td>0</td>\n",
       "      <td>...</td>\n",
       "      <td>0</td>\n",
       "      <td>0</td>\n",
       "      <td>0</td>\n",
       "      <td>0</td>\n",
       "      <td>0</td>\n",
       "      <td>0</td>\n",
       "      <td>0</td>\n",
       "      <td>1</td>\n",
       "      <td>38.0</td>\n",
       "      <td>(24.0, 44.0]</td>\n",
       "    </tr>\n",
       "  </tbody>\n",
       "</table>\n",
       "<p>5 rows × 50 columns</p>\n",
       "</div>"
      ],
      "text/plain": [
       "            id  flag_own_car  flag_own_realty  cnt_children  amt_income_total  \\\n",
       "32073  5135805             0                1             0           90000.0   \n",
       "31598  5132791             0                1             2          180000.0   \n",
       "24158  5096773             0                0             0          171000.0   \n",
       "34581  5146247             0                1             0          238500.0   \n",
       "16771  5067027             0                1             1          135000.0   \n",
       "\n",
       "       days_birth  days_employed  flag_mobil  flag_work_phone  flag_phone  \\\n",
       "32073       19482           2878           1                0           0   \n",
       "31598       13361           6586           1                1           0   \n",
       "24158       21700          13879           1                0           0   \n",
       "34581       23171          13879           1                0           0   \n",
       "16771       13589           1649           1                0           0   \n",
       "\n",
       "       ...  occupation_type_medicine_staff  occupation_type_other  \\\n",
       "32073  ...                               0                      0   \n",
       "31598  ...                               0                      0   \n",
       "24158  ...                               0                      1   \n",
       "34581  ...                               0                      1   \n",
       "16771  ...                               0                      0   \n",
       "\n",
       "       occupation_type_private_service_staff  occupation_type_realty_agents  \\\n",
       "32073                                      0                              0   \n",
       "31598                                      0                              0   \n",
       "24158                                      0                              0   \n",
       "34581                                      0                              0   \n",
       "16771                                      0                              0   \n",
       "\n",
       "       occupation_type_sales_staff  occupation_type_secretaries  \\\n",
       "32073                            0                            0   \n",
       "31598                            0                            0   \n",
       "24158                            0                            0   \n",
       "34581                            0                            0   \n",
       "16771                            0                            0   \n",
       "\n",
       "       occupation_type_security_staff  occupation_type_waiters/barmen_staff  \\\n",
       "32073                               0                                     0   \n",
       "31598                               0                                     0   \n",
       "24158                               0                                     0   \n",
       "34581                               0                                     0   \n",
       "16771                               0                                     1   \n",
       "\n",
       "       score  quantile_score  \n",
       "32073  -40.0  (-81.001, 7.0]  \n",
       "31598   14.0     (7.0, 24.0]  \n",
       "24158   74.0   (44.0, 316.0]  \n",
       "34581   93.0   (44.0, 316.0]  \n",
       "16771   38.0    (24.0, 44.0]  \n",
       "\n",
       "[5 rows x 50 columns]"
      ]
     },
     "execution_count": 24,
     "metadata": {},
     "output_type": "execute_result"
    }
   ],
   "source": [
    "train.head()"
   ]
  },
  {
   "cell_type": "code",
   "execution_count": 25,
   "metadata": {},
   "outputs": [
    {
     "data": {
      "text/plain": [
       "(7.0, 24.0]       6801\n",
       "(-81.001, 7.0]    6660\n",
       "(24.0, 44.0]      6467\n",
       "(44.0, 316.0]     6320\n",
       "Name: quantile_score, dtype: int64"
      ]
     },
     "execution_count": 25,
     "metadata": {},
     "output_type": "execute_result"
    }
   ],
   "source": [
    "train.quantile_score.value_counts()"
   ]
  },
  {
   "cell_type": "code",
   "execution_count": null,
   "metadata": {},
   "outputs": [],
   "source": []
  }
 ],
 "metadata": {
  "kernelspec": {
   "display_name": "Python 3",
   "language": "python",
   "name": "python3"
  },
  "language_info": {
   "codemirror_mode": {
    "name": "ipython",
    "version": 3
   },
   "file_extension": ".py",
   "mimetype": "text/x-python",
   "name": "python",
   "nbconvert_exporter": "python",
   "pygments_lexer": "ipython3",
   "version": "3.7.9"
  }
 },
 "nbformat": 4,
 "nbformat_minor": 4
}

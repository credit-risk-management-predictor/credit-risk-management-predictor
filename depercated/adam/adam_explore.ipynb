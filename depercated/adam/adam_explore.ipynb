{
 "cells": [
  {
   "cell_type": "code",
   "execution_count": 1,
   "metadata": {},
   "outputs": [],
   "source": [
    "import numpy as np\n",
    "import pandas as pd\n",
    "import matplotlib.pyplot as plt\n",
    "import seaborn as sns\n",
    "import warnings\n",
    "warnings.filterwarnings(\"ignore\")\n",
    "import adam_wrangle as wra\n",
    "import scipy.stats as stats"
   ]
  },
  {
   "cell_type": "code",
   "execution_count": 2,
   "metadata": {},
   "outputs": [],
   "source": [
    "expanded, score, full_history = wra.get_reports_data('credit_record.csv')"
   ]
  },
  {
   "cell_type": "code",
   "execution_count": 3,
   "metadata": {},
   "outputs": [
    {
     "data": {
      "text/html": [
       "<div>\n",
       "<style scoped>\n",
       "    .dataframe tbody tr th:only-of-type {\n",
       "        vertical-align: middle;\n",
       "    }\n",
       "\n",
       "    .dataframe tbody tr th {\n",
       "        vertical-align: top;\n",
       "    }\n",
       "\n",
       "    .dataframe thead th {\n",
       "        text-align: right;\n",
       "    }\n",
       "</style>\n",
       "<table border=\"1\" class=\"dataframe\">\n",
       "  <thead>\n",
       "    <tr style=\"text-align: right;\">\n",
       "      <th></th>\n",
       "      <th>id</th>\n",
       "      <th>0-29</th>\n",
       "      <th>30-59</th>\n",
       "      <th>60-89</th>\n",
       "      <th>90-119</th>\n",
       "      <th>120-149</th>\n",
       "      <th>bad_debt</th>\n",
       "      <th>no_debt</th>\n",
       "      <th>paid_off</th>\n",
       "      <th>months_active</th>\n",
       "      <th>time_score</th>\n",
       "      <th>score</th>\n",
       "    </tr>\n",
       "  </thead>\n",
       "  <tbody>\n",
       "    <tr>\n",
       "      <th>0</th>\n",
       "      <td>5001711</td>\n",
       "      <td>3.0</td>\n",
       "      <td>0.0</td>\n",
       "      <td>0.0</td>\n",
       "      <td>0.0</td>\n",
       "      <td>0.0</td>\n",
       "      <td>0.0</td>\n",
       "      <td>0.0</td>\n",
       "      <td>-2.0</td>\n",
       "      <td>4</td>\n",
       "      <td>0</td>\n",
       "      <td>5.0</td>\n",
       "    </tr>\n",
       "    <tr>\n",
       "      <th>1</th>\n",
       "      <td>5001712</td>\n",
       "      <td>10.0</td>\n",
       "      <td>0.0</td>\n",
       "      <td>0.0</td>\n",
       "      <td>0.0</td>\n",
       "      <td>0.0</td>\n",
       "      <td>0.0</td>\n",
       "      <td>9.0</td>\n",
       "      <td>-0.0</td>\n",
       "      <td>19</td>\n",
       "      <td>-10</td>\n",
       "      <td>28.0</td>\n",
       "    </tr>\n",
       "    <tr>\n",
       "      <th>2</th>\n",
       "      <td>5001713</td>\n",
       "      <td>0.0</td>\n",
       "      <td>0.0</td>\n",
       "      <td>0.0</td>\n",
       "      <td>0.0</td>\n",
       "      <td>0.0</td>\n",
       "      <td>0.0</td>\n",
       "      <td>0.0</td>\n",
       "      <td>-44.0</td>\n",
       "      <td>22</td>\n",
       "      <td>-10</td>\n",
       "      <td>-32.0</td>\n",
       "    </tr>\n",
       "    <tr>\n",
       "      <th>3</th>\n",
       "      <td>5001714</td>\n",
       "      <td>0.0</td>\n",
       "      <td>0.0</td>\n",
       "      <td>0.0</td>\n",
       "      <td>0.0</td>\n",
       "      <td>0.0</td>\n",
       "      <td>0.0</td>\n",
       "      <td>0.0</td>\n",
       "      <td>-30.0</td>\n",
       "      <td>15</td>\n",
       "      <td>0</td>\n",
       "      <td>-15.0</td>\n",
       "    </tr>\n",
       "    <tr>\n",
       "      <th>4</th>\n",
       "      <td>5001715</td>\n",
       "      <td>0.0</td>\n",
       "      <td>0.0</td>\n",
       "      <td>0.0</td>\n",
       "      <td>0.0</td>\n",
       "      <td>0.0</td>\n",
       "      <td>0.0</td>\n",
       "      <td>0.0</td>\n",
       "      <td>-120.0</td>\n",
       "      <td>60</td>\n",
       "      <td>-20</td>\n",
       "      <td>-80.0</td>\n",
       "    </tr>\n",
       "    <tr>\n",
       "      <th>...</th>\n",
       "      <td>...</td>\n",
       "      <td>...</td>\n",
       "      <td>...</td>\n",
       "      <td>...</td>\n",
       "      <td>...</td>\n",
       "      <td>...</td>\n",
       "      <td>...</td>\n",
       "      <td>...</td>\n",
       "      <td>...</td>\n",
       "      <td>...</td>\n",
       "      <td>...</td>\n",
       "      <td>...</td>\n",
       "    </tr>\n",
       "    <tr>\n",
       "      <th>45980</th>\n",
       "      <td>5150482</td>\n",
       "      <td>12.0</td>\n",
       "      <td>0.0</td>\n",
       "      <td>0.0</td>\n",
       "      <td>0.0</td>\n",
       "      <td>0.0</td>\n",
       "      <td>0.0</td>\n",
       "      <td>6.0</td>\n",
       "      <td>-0.0</td>\n",
       "      <td>18</td>\n",
       "      <td>-10</td>\n",
       "      <td>26.0</td>\n",
       "    </tr>\n",
       "    <tr>\n",
       "      <th>45981</th>\n",
       "      <td>5150483</td>\n",
       "      <td>0.0</td>\n",
       "      <td>0.0</td>\n",
       "      <td>0.0</td>\n",
       "      <td>0.0</td>\n",
       "      <td>0.0</td>\n",
       "      <td>0.0</td>\n",
       "      <td>0.0</td>\n",
       "      <td>-36.0</td>\n",
       "      <td>18</td>\n",
       "      <td>-10</td>\n",
       "      <td>-28.0</td>\n",
       "    </tr>\n",
       "    <tr>\n",
       "      <th>45982</th>\n",
       "      <td>5150484</td>\n",
       "      <td>12.0</td>\n",
       "      <td>0.0</td>\n",
       "      <td>0.0</td>\n",
       "      <td>0.0</td>\n",
       "      <td>0.0</td>\n",
       "      <td>0.0</td>\n",
       "      <td>1.0</td>\n",
       "      <td>-0.0</td>\n",
       "      <td>13</td>\n",
       "      <td>0</td>\n",
       "      <td>26.0</td>\n",
       "    </tr>\n",
       "    <tr>\n",
       "      <th>45983</th>\n",
       "      <td>5150485</td>\n",
       "      <td>2.0</td>\n",
       "      <td>0.0</td>\n",
       "      <td>0.0</td>\n",
       "      <td>0.0</td>\n",
       "      <td>0.0</td>\n",
       "      <td>0.0</td>\n",
       "      <td>0.0</td>\n",
       "      <td>-0.0</td>\n",
       "      <td>2</td>\n",
       "      <td>0</td>\n",
       "      <td>4.0</td>\n",
       "    </tr>\n",
       "    <tr>\n",
       "      <th>45984</th>\n",
       "      <td>5150487</td>\n",
       "      <td>0.0</td>\n",
       "      <td>0.0</td>\n",
       "      <td>0.0</td>\n",
       "      <td>0.0</td>\n",
       "      <td>0.0</td>\n",
       "      <td>0.0</td>\n",
       "      <td>30.0</td>\n",
       "      <td>-0.0</td>\n",
       "      <td>30</td>\n",
       "      <td>-10</td>\n",
       "      <td>50.0</td>\n",
       "    </tr>\n",
       "  </tbody>\n",
       "</table>\n",
       "<p>45985 rows × 12 columns</p>\n",
       "</div>"
      ],
      "text/plain": [
       "            id  0-29  30-59  60-89  90-119  120-149  bad_debt  no_debt  \\\n",
       "0      5001711   3.0    0.0    0.0     0.0      0.0       0.0      0.0   \n",
       "1      5001712  10.0    0.0    0.0     0.0      0.0       0.0      9.0   \n",
       "2      5001713   0.0    0.0    0.0     0.0      0.0       0.0      0.0   \n",
       "3      5001714   0.0    0.0    0.0     0.0      0.0       0.0      0.0   \n",
       "4      5001715   0.0    0.0    0.0     0.0      0.0       0.0      0.0   \n",
       "...        ...   ...    ...    ...     ...      ...       ...      ...   \n",
       "45980  5150482  12.0    0.0    0.0     0.0      0.0       0.0      6.0   \n",
       "45981  5150483   0.0    0.0    0.0     0.0      0.0       0.0      0.0   \n",
       "45982  5150484  12.0    0.0    0.0     0.0      0.0       0.0      1.0   \n",
       "45983  5150485   2.0    0.0    0.0     0.0      0.0       0.0      0.0   \n",
       "45984  5150487   0.0    0.0    0.0     0.0      0.0       0.0     30.0   \n",
       "\n",
       "       paid_off  months_active  time_score  score  \n",
       "0          -2.0              4           0    5.0  \n",
       "1          -0.0             19         -10   28.0  \n",
       "2         -44.0             22         -10  -32.0  \n",
       "3         -30.0             15           0  -15.0  \n",
       "4        -120.0             60         -20  -80.0  \n",
       "...         ...            ...         ...    ...  \n",
       "45980      -0.0             18         -10   26.0  \n",
       "45981     -36.0             18         -10  -28.0  \n",
       "45982      -0.0             13           0   26.0  \n",
       "45983      -0.0              2           0    4.0  \n",
       "45984      -0.0             30         -10   50.0  \n",
       "\n",
       "[45985 rows x 12 columns]"
      ]
     },
     "execution_count": 3,
     "metadata": {},
     "output_type": "execute_result"
    }
   ],
   "source": [
    "score"
   ]
  },
  {
   "cell_type": "code",
   "execution_count": 4,
   "metadata": {},
   "outputs": [
    {
     "data": {
      "text/html": [
       "<div>\n",
       "<style scoped>\n",
       "    .dataframe tbody tr th:only-of-type {\n",
       "        vertical-align: middle;\n",
       "    }\n",
       "\n",
       "    .dataframe tbody tr th {\n",
       "        vertical-align: top;\n",
       "    }\n",
       "\n",
       "    .dataframe thead th {\n",
       "        text-align: right;\n",
       "    }\n",
       "</style>\n",
       "<table border=\"1\" class=\"dataframe\">\n",
       "  <thead>\n",
       "    <tr style=\"text-align: right;\">\n",
       "      <th></th>\n",
       "      <th>id</th>\n",
       "      <th>account_months</th>\n",
       "      <th>status</th>\n",
       "      <th>1month_ago</th>\n",
       "      <th>2month_ago</th>\n",
       "      <th>3month_ago</th>\n",
       "      <th>4month_ago</th>\n",
       "      <th>5month_ago</th>\n",
       "      <th>6month_ago</th>\n",
       "      <th>7month_ago</th>\n",
       "      <th>...</th>\n",
       "      <th>51month_ago</th>\n",
       "      <th>52month_ago</th>\n",
       "      <th>53month_ago</th>\n",
       "      <th>54month_ago</th>\n",
       "      <th>55month_ago</th>\n",
       "      <th>56month_ago</th>\n",
       "      <th>57month_ago</th>\n",
       "      <th>58month_ago</th>\n",
       "      <th>59month_ago</th>\n",
       "      <th>60month_ago</th>\n",
       "    </tr>\n",
       "  </thead>\n",
       "  <tbody>\n",
       "    <tr>\n",
       "      <th>0</th>\n",
       "      <td>5001711</td>\n",
       "      <td>3</td>\n",
       "      <td>0</td>\n",
       "      <td>0</td>\n",
       "      <td>0</td>\n",
       "      <td>X</td>\n",
       "      <td>NaN</td>\n",
       "      <td>NaN</td>\n",
       "      <td>NaN</td>\n",
       "      <td>NaN</td>\n",
       "      <td>...</td>\n",
       "      <td>NaN</td>\n",
       "      <td>NaN</td>\n",
       "      <td>NaN</td>\n",
       "      <td>NaN</td>\n",
       "      <td>NaN</td>\n",
       "      <td>NaN</td>\n",
       "      <td>NaN</td>\n",
       "      <td>NaN</td>\n",
       "      <td>NaN</td>\n",
       "      <td>NaN</td>\n",
       "    </tr>\n",
       "    <tr>\n",
       "      <th>1</th>\n",
       "      <td>5001712</td>\n",
       "      <td>18</td>\n",
       "      <td>0</td>\n",
       "      <td>0</td>\n",
       "      <td>0</td>\n",
       "      <td>0</td>\n",
       "      <td>0</td>\n",
       "      <td>0</td>\n",
       "      <td>0</td>\n",
       "      <td>0</td>\n",
       "      <td>...</td>\n",
       "      <td>NaN</td>\n",
       "      <td>NaN</td>\n",
       "      <td>NaN</td>\n",
       "      <td>NaN</td>\n",
       "      <td>NaN</td>\n",
       "      <td>NaN</td>\n",
       "      <td>NaN</td>\n",
       "      <td>NaN</td>\n",
       "      <td>NaN</td>\n",
       "      <td>NaN</td>\n",
       "    </tr>\n",
       "    <tr>\n",
       "      <th>2</th>\n",
       "      <td>5001713</td>\n",
       "      <td>21</td>\n",
       "      <td>X</td>\n",
       "      <td>X</td>\n",
       "      <td>X</td>\n",
       "      <td>X</td>\n",
       "      <td>X</td>\n",
       "      <td>X</td>\n",
       "      <td>X</td>\n",
       "      <td>X</td>\n",
       "      <td>...</td>\n",
       "      <td>NaN</td>\n",
       "      <td>NaN</td>\n",
       "      <td>NaN</td>\n",
       "      <td>NaN</td>\n",
       "      <td>NaN</td>\n",
       "      <td>NaN</td>\n",
       "      <td>NaN</td>\n",
       "      <td>NaN</td>\n",
       "      <td>NaN</td>\n",
       "      <td>NaN</td>\n",
       "    </tr>\n",
       "    <tr>\n",
       "      <th>3</th>\n",
       "      <td>5001714</td>\n",
       "      <td>14</td>\n",
       "      <td>X</td>\n",
       "      <td>X</td>\n",
       "      <td>X</td>\n",
       "      <td>X</td>\n",
       "      <td>X</td>\n",
       "      <td>X</td>\n",
       "      <td>X</td>\n",
       "      <td>X</td>\n",
       "      <td>...</td>\n",
       "      <td>NaN</td>\n",
       "      <td>NaN</td>\n",
       "      <td>NaN</td>\n",
       "      <td>NaN</td>\n",
       "      <td>NaN</td>\n",
       "      <td>NaN</td>\n",
       "      <td>NaN</td>\n",
       "      <td>NaN</td>\n",
       "      <td>NaN</td>\n",
       "      <td>NaN</td>\n",
       "    </tr>\n",
       "    <tr>\n",
       "      <th>4</th>\n",
       "      <td>5001715</td>\n",
       "      <td>59</td>\n",
       "      <td>X</td>\n",
       "      <td>X</td>\n",
       "      <td>X</td>\n",
       "      <td>X</td>\n",
       "      <td>X</td>\n",
       "      <td>X</td>\n",
       "      <td>X</td>\n",
       "      <td>X</td>\n",
       "      <td>...</td>\n",
       "      <td>X</td>\n",
       "      <td>X</td>\n",
       "      <td>X</td>\n",
       "      <td>X</td>\n",
       "      <td>X</td>\n",
       "      <td>X</td>\n",
       "      <td>X</td>\n",
       "      <td>X</td>\n",
       "      <td>X</td>\n",
       "      <td>NaN</td>\n",
       "    </tr>\n",
       "    <tr>\n",
       "      <th>...</th>\n",
       "      <td>...</td>\n",
       "      <td>...</td>\n",
       "      <td>...</td>\n",
       "      <td>...</td>\n",
       "      <td>...</td>\n",
       "      <td>...</td>\n",
       "      <td>...</td>\n",
       "      <td>...</td>\n",
       "      <td>...</td>\n",
       "      <td>...</td>\n",
       "      <td>...</td>\n",
       "      <td>...</td>\n",
       "      <td>...</td>\n",
       "      <td>...</td>\n",
       "      <td>...</td>\n",
       "      <td>...</td>\n",
       "      <td>...</td>\n",
       "      <td>...</td>\n",
       "      <td>...</td>\n",
       "      <td>...</td>\n",
       "      <td>...</td>\n",
       "    </tr>\n",
       "    <tr>\n",
       "      <th>45980</th>\n",
       "      <td>5150482</td>\n",
       "      <td>28</td>\n",
       "      <td>0</td>\n",
       "      <td>0</td>\n",
       "      <td>0</td>\n",
       "      <td>0</td>\n",
       "      <td>0</td>\n",
       "      <td>0</td>\n",
       "      <td>0</td>\n",
       "      <td>0</td>\n",
       "      <td>...</td>\n",
       "      <td>NaN</td>\n",
       "      <td>NaN</td>\n",
       "      <td>NaN</td>\n",
       "      <td>NaN</td>\n",
       "      <td>NaN</td>\n",
       "      <td>NaN</td>\n",
       "      <td>NaN</td>\n",
       "      <td>NaN</td>\n",
       "      <td>NaN</td>\n",
       "      <td>NaN</td>\n",
       "    </tr>\n",
       "    <tr>\n",
       "      <th>45981</th>\n",
       "      <td>5150483</td>\n",
       "      <td>17</td>\n",
       "      <td>X</td>\n",
       "      <td>X</td>\n",
       "      <td>X</td>\n",
       "      <td>X</td>\n",
       "      <td>X</td>\n",
       "      <td>X</td>\n",
       "      <td>X</td>\n",
       "      <td>X</td>\n",
       "      <td>...</td>\n",
       "      <td>NaN</td>\n",
       "      <td>NaN</td>\n",
       "      <td>NaN</td>\n",
       "      <td>NaN</td>\n",
       "      <td>NaN</td>\n",
       "      <td>NaN</td>\n",
       "      <td>NaN</td>\n",
       "      <td>NaN</td>\n",
       "      <td>NaN</td>\n",
       "      <td>NaN</td>\n",
       "    </tr>\n",
       "    <tr>\n",
       "      <th>45982</th>\n",
       "      <td>5150484</td>\n",
       "      <td>12</td>\n",
       "      <td>0</td>\n",
       "      <td>0</td>\n",
       "      <td>0</td>\n",
       "      <td>0</td>\n",
       "      <td>0</td>\n",
       "      <td>0</td>\n",
       "      <td>0</td>\n",
       "      <td>0</td>\n",
       "      <td>...</td>\n",
       "      <td>NaN</td>\n",
       "      <td>NaN</td>\n",
       "      <td>NaN</td>\n",
       "      <td>NaN</td>\n",
       "      <td>NaN</td>\n",
       "      <td>NaN</td>\n",
       "      <td>NaN</td>\n",
       "      <td>NaN</td>\n",
       "      <td>NaN</td>\n",
       "      <td>NaN</td>\n",
       "    </tr>\n",
       "    <tr>\n",
       "      <th>45983</th>\n",
       "      <td>5150485</td>\n",
       "      <td>1</td>\n",
       "      <td>0</td>\n",
       "      <td>0</td>\n",
       "      <td>NaN</td>\n",
       "      <td>NaN</td>\n",
       "      <td>NaN</td>\n",
       "      <td>NaN</td>\n",
       "      <td>NaN</td>\n",
       "      <td>NaN</td>\n",
       "      <td>...</td>\n",
       "      <td>NaN</td>\n",
       "      <td>NaN</td>\n",
       "      <td>NaN</td>\n",
       "      <td>NaN</td>\n",
       "      <td>NaN</td>\n",
       "      <td>NaN</td>\n",
       "      <td>NaN</td>\n",
       "      <td>NaN</td>\n",
       "      <td>NaN</td>\n",
       "      <td>NaN</td>\n",
       "    </tr>\n",
       "    <tr>\n",
       "      <th>45984</th>\n",
       "      <td>5150487</td>\n",
       "      <td>29</td>\n",
       "      <td>C</td>\n",
       "      <td>C</td>\n",
       "      <td>C</td>\n",
       "      <td>C</td>\n",
       "      <td>C</td>\n",
       "      <td>C</td>\n",
       "      <td>C</td>\n",
       "      <td>C</td>\n",
       "      <td>...</td>\n",
       "      <td>NaN</td>\n",
       "      <td>NaN</td>\n",
       "      <td>NaN</td>\n",
       "      <td>NaN</td>\n",
       "      <td>NaN</td>\n",
       "      <td>NaN</td>\n",
       "      <td>NaN</td>\n",
       "      <td>NaN</td>\n",
       "      <td>NaN</td>\n",
       "      <td>NaN</td>\n",
       "    </tr>\n",
       "  </tbody>\n",
       "</table>\n",
       "<p>45985 rows × 63 columns</p>\n",
       "</div>"
      ],
      "text/plain": [
       "            id  account_months status 1month_ago 2month_ago 3month_ago  \\\n",
       "0      5001711               3      0          0          0          X   \n",
       "1      5001712              18      0          0          0          0   \n",
       "2      5001713              21      X          X          X          X   \n",
       "3      5001714              14      X          X          X          X   \n",
       "4      5001715              59      X          X          X          X   \n",
       "...        ...             ...    ...        ...        ...        ...   \n",
       "45980  5150482              28      0          0          0          0   \n",
       "45981  5150483              17      X          X          X          X   \n",
       "45982  5150484              12      0          0          0          0   \n",
       "45983  5150485               1      0          0        NaN        NaN   \n",
       "45984  5150487              29      C          C          C          C   \n",
       "\n",
       "      4month_ago 5month_ago 6month_ago 7month_ago  ... 51month_ago  \\\n",
       "0            NaN        NaN        NaN        NaN  ...         NaN   \n",
       "1              0          0          0          0  ...         NaN   \n",
       "2              X          X          X          X  ...         NaN   \n",
       "3              X          X          X          X  ...         NaN   \n",
       "4              X          X          X          X  ...           X   \n",
       "...          ...        ...        ...        ...  ...         ...   \n",
       "45980          0          0          0          0  ...         NaN   \n",
       "45981          X          X          X          X  ...         NaN   \n",
       "45982          0          0          0          0  ...         NaN   \n",
       "45983        NaN        NaN        NaN        NaN  ...         NaN   \n",
       "45984          C          C          C          C  ...         NaN   \n",
       "\n",
       "      52month_ago 53month_ago 54month_ago 55month_ago 56month_ago 57month_ago  \\\n",
       "0             NaN         NaN         NaN         NaN         NaN         NaN   \n",
       "1             NaN         NaN         NaN         NaN         NaN         NaN   \n",
       "2             NaN         NaN         NaN         NaN         NaN         NaN   \n",
       "3             NaN         NaN         NaN         NaN         NaN         NaN   \n",
       "4               X           X           X           X           X           X   \n",
       "...           ...         ...         ...         ...         ...         ...   \n",
       "45980         NaN         NaN         NaN         NaN         NaN         NaN   \n",
       "45981         NaN         NaN         NaN         NaN         NaN         NaN   \n",
       "45982         NaN         NaN         NaN         NaN         NaN         NaN   \n",
       "45983         NaN         NaN         NaN         NaN         NaN         NaN   \n",
       "45984         NaN         NaN         NaN         NaN         NaN         NaN   \n",
       "\n",
       "      58month_ago 59month_ago 60month_ago  \n",
       "0             NaN         NaN         NaN  \n",
       "1             NaN         NaN         NaN  \n",
       "2             NaN         NaN         NaN  \n",
       "3             NaN         NaN         NaN  \n",
       "4               X           X         NaN  \n",
       "...           ...         ...         ...  \n",
       "45980         NaN         NaN         NaN  \n",
       "45981         NaN         NaN         NaN  \n",
       "45982         NaN         NaN         NaN  \n",
       "45983         NaN         NaN         NaN  \n",
       "45984         NaN         NaN         NaN  \n",
       "\n",
       "[45985 rows x 63 columns]"
      ]
     },
     "execution_count": 4,
     "metadata": {},
     "output_type": "execute_result"
    }
   ],
   "source": [
    "full_history"
   ]
  },
  {
   "cell_type": "code",
   "execution_count": 5,
   "metadata": {},
   "outputs": [],
   "source": [
    "apps = wra.get_application_data('application_record.csv')"
   ]
  },
  {
   "cell_type": "code",
   "execution_count": 6,
   "metadata": {},
   "outputs": [],
   "source": [
    "apps_cred, apps_none = wra.add_score_target(apps, score)"
   ]
  },
  {
   "cell_type": "code",
   "execution_count": 7,
   "metadata": {},
   "outputs": [],
   "source": [
    "apps_cred = wra.add_apps_dummies(apps_cred)"
   ]
  },
  {
   "cell_type": "code",
   "execution_count": 8,
   "metadata": {},
   "outputs": [],
   "source": [
    "train, validate, test = wra.split_data(apps_cred)"
   ]
  },
  {
   "cell_type": "code",
   "execution_count": 9,
   "metadata": {},
   "outputs": [
    {
     "data": {
      "text/plain": [
       "((26248, 61), (6563, 61), (3646, 61))"
      ]
     },
     "execution_count": 9,
     "metadata": {},
     "output_type": "execute_result"
    }
   ],
   "source": [
    "train.shape, validate.shape, test.shape"
   ]
  },
  {
   "cell_type": "code",
   "execution_count": 10,
   "metadata": {},
   "outputs": [
    {
     "name": "stdout",
     "output_type": "stream",
     "text": [
      "<class 'pandas.core.frame.DataFrame'>\n",
      "Int64Index: 26248 entries, 32073 to 18632\n",
      "Data columns (total 61 columns):\n",
      " #   Column                                             Non-Null Count  Dtype  \n",
      "---  ------                                             --------------  -----  \n",
      " 0   id                                                 26248 non-null  object \n",
      " 1   code_gender                                        26248 non-null  object \n",
      " 2   flag_own_car                                       26248 non-null  int64  \n",
      " 3   flag_own_realty                                    26248 non-null  int64  \n",
      " 4   cnt_children                                       26248 non-null  int64  \n",
      " 5   amt_income_total                                   26248 non-null  float64\n",
      " 6   name_income_type                                   26248 non-null  object \n",
      " 7   name_education_type                                26248 non-null  object \n",
      " 8   name_family_status                                 26248 non-null  object \n",
      " 9   name_housing_type                                  26248 non-null  object \n",
      " 10  days_birth                                         26248 non-null  int64  \n",
      " 11  days_employed                                      26248 non-null  int64  \n",
      " 12  flag_mobil                                         26248 non-null  int64  \n",
      " 13  flag_work_phone                                    26248 non-null  int64  \n",
      " 14  flag_phone                                         26248 non-null  int64  \n",
      " 15  flag_email                                         26248 non-null  int64  \n",
      " 16  occupation_type                                    26248 non-null  object \n",
      " 17  cnt_fam_members                                    26248 non-null  float64\n",
      " 18  employed_years                                     26248 non-null  float64\n",
      " 19  age                                                26248 non-null  float64\n",
      " 20  score                                              26248 non-null  float64\n",
      " 21  name_income_type_commercial_associate              26248 non-null  uint8  \n",
      " 22  name_income_type_pensioner                         26248 non-null  uint8  \n",
      " 23  name_income_type_state_servant                     26248 non-null  uint8  \n",
      " 24  name_income_type_student                           26248 non-null  uint8  \n",
      " 25  name_income_type_working                           26248 non-null  uint8  \n",
      " 26  name_education_type_academic_degree                26248 non-null  uint8  \n",
      " 27  name_education_type_higher_education               26248 non-null  uint8  \n",
      " 28  name_education_type_incomplete_higher              26248 non-null  uint8  \n",
      " 29  name_education_type_lower_secondary                26248 non-null  uint8  \n",
      " 30  name_education_type_secondary_/_secondary_special  26248 non-null  uint8  \n",
      " 31  name_family_status_civil_marriage                  26248 non-null  uint8  \n",
      " 32  name_family_status_married                         26248 non-null  uint8  \n",
      " 33  name_family_status_separated                       26248 non-null  uint8  \n",
      " 34  name_family_status_single_/_not_married            26248 non-null  uint8  \n",
      " 35  name_family_status_widow                           26248 non-null  uint8  \n",
      " 36  name_housing_type_co-op_apartment                  26248 non-null  uint8  \n",
      " 37  name_housing_type_house_/_apartment                26248 non-null  uint8  \n",
      " 38  name_housing_type_municipal_apartment              26248 non-null  uint8  \n",
      " 39  name_housing_type_office_apartment                 26248 non-null  uint8  \n",
      " 40  name_housing_type_rented_apartment                 26248 non-null  uint8  \n",
      " 41  name_housing_type_with_parents                     26248 non-null  uint8  \n",
      " 42  occupation_type_accountants                        26248 non-null  uint8  \n",
      " 43  occupation_type_cleaning_staff                     26248 non-null  uint8  \n",
      " 44  occupation_type_cooking_staff                      26248 non-null  uint8  \n",
      " 45  occupation_type_core_staff                         26248 non-null  uint8  \n",
      " 46  occupation_type_drivers                            26248 non-null  uint8  \n",
      " 47  occupation_type_hr_staff                           26248 non-null  uint8  \n",
      " 48  occupation_type_high_skill_tech_staff              26248 non-null  uint8  \n",
      " 49  occupation_type_it_staff                           26248 non-null  uint8  \n",
      " 50  occupation_type_laborers                           26248 non-null  uint8  \n",
      " 51  occupation_type_low-skill_laborers                 26248 non-null  uint8  \n",
      " 52  occupation_type_managers                           26248 non-null  uint8  \n",
      " 53  occupation_type_medicine_staff                     26248 non-null  uint8  \n",
      " 54  occupation_type_other                              26248 non-null  uint8  \n",
      " 55  occupation_type_private_service_staff              26248 non-null  uint8  \n",
      " 56  occupation_type_realty_agents                      26248 non-null  uint8  \n",
      " 57  occupation_type_sales_staff                        26248 non-null  uint8  \n",
      " 58  occupation_type_secretaries                        26248 non-null  uint8  \n",
      " 59  occupation_type_security_staff                     26248 non-null  uint8  \n",
      " 60  occupation_type_waiters/barmen_staff               26248 non-null  uint8  \n",
      "dtypes: float64(5), int64(9), object(7), uint8(40)\n",
      "memory usage: 5.4+ MB\n"
     ]
    }
   ],
   "source": [
    "train.info()"
   ]
  },
  {
   "cell_type": "code",
   "execution_count": 11,
   "metadata": {},
   "outputs": [
    {
     "data": {
      "text/html": [
       "<div>\n",
       "<style scoped>\n",
       "    .dataframe tbody tr th:only-of-type {\n",
       "        vertical-align: middle;\n",
       "    }\n",
       "\n",
       "    .dataframe tbody tr th {\n",
       "        vertical-align: top;\n",
       "    }\n",
       "\n",
       "    .dataframe thead th {\n",
       "        text-align: right;\n",
       "    }\n",
       "</style>\n",
       "<table border=\"1\" class=\"dataframe\">\n",
       "  <thead>\n",
       "    <tr style=\"text-align: right;\">\n",
       "      <th></th>\n",
       "      <th>id</th>\n",
       "      <th>code_gender</th>\n",
       "      <th>flag_own_car</th>\n",
       "      <th>flag_own_realty</th>\n",
       "      <th>cnt_children</th>\n",
       "      <th>amt_income_total</th>\n",
       "      <th>name_income_type</th>\n",
       "      <th>name_education_type</th>\n",
       "      <th>name_family_status</th>\n",
       "      <th>name_housing_type</th>\n",
       "      <th>...</th>\n",
       "      <th>occupation_type_low-skill_laborers</th>\n",
       "      <th>occupation_type_managers</th>\n",
       "      <th>occupation_type_medicine_staff</th>\n",
       "      <th>occupation_type_other</th>\n",
       "      <th>occupation_type_private_service_staff</th>\n",
       "      <th>occupation_type_realty_agents</th>\n",
       "      <th>occupation_type_sales_staff</th>\n",
       "      <th>occupation_type_secretaries</th>\n",
       "      <th>occupation_type_security_staff</th>\n",
       "      <th>occupation_type_waiters/barmen_staff</th>\n",
       "    </tr>\n",
       "  </thead>\n",
       "  <tbody>\n",
       "    <tr>\n",
       "      <th>32073</th>\n",
       "      <td>5135805</td>\n",
       "      <td>F</td>\n",
       "      <td>0</td>\n",
       "      <td>1</td>\n",
       "      <td>0</td>\n",
       "      <td>90000.0</td>\n",
       "      <td>Commercial associate</td>\n",
       "      <td>Secondary / secondary special</td>\n",
       "      <td>Married</td>\n",
       "      <td>House / apartment</td>\n",
       "      <td>...</td>\n",
       "      <td>0</td>\n",
       "      <td>0</td>\n",
       "      <td>0</td>\n",
       "      <td>0</td>\n",
       "      <td>0</td>\n",
       "      <td>0</td>\n",
       "      <td>0</td>\n",
       "      <td>0</td>\n",
       "      <td>0</td>\n",
       "      <td>0</td>\n",
       "    </tr>\n",
       "    <tr>\n",
       "      <th>31598</th>\n",
       "      <td>5132791</td>\n",
       "      <td>F</td>\n",
       "      <td>0</td>\n",
       "      <td>1</td>\n",
       "      <td>2</td>\n",
       "      <td>180000.0</td>\n",
       "      <td>Working</td>\n",
       "      <td>Secondary / secondary special</td>\n",
       "      <td>Married</td>\n",
       "      <td>House / apartment</td>\n",
       "      <td>...</td>\n",
       "      <td>0</td>\n",
       "      <td>0</td>\n",
       "      <td>0</td>\n",
       "      <td>0</td>\n",
       "      <td>0</td>\n",
       "      <td>0</td>\n",
       "      <td>0</td>\n",
       "      <td>0</td>\n",
       "      <td>0</td>\n",
       "      <td>0</td>\n",
       "    </tr>\n",
       "    <tr>\n",
       "      <th>24158</th>\n",
       "      <td>5096773</td>\n",
       "      <td>F</td>\n",
       "      <td>0</td>\n",
       "      <td>0</td>\n",
       "      <td>0</td>\n",
       "      <td>171000.0</td>\n",
       "      <td>Pensioner</td>\n",
       "      <td>Secondary / secondary special</td>\n",
       "      <td>Married</td>\n",
       "      <td>House / apartment</td>\n",
       "      <td>...</td>\n",
       "      <td>0</td>\n",
       "      <td>0</td>\n",
       "      <td>0</td>\n",
       "      <td>1</td>\n",
       "      <td>0</td>\n",
       "      <td>0</td>\n",
       "      <td>0</td>\n",
       "      <td>0</td>\n",
       "      <td>0</td>\n",
       "      <td>0</td>\n",
       "    </tr>\n",
       "    <tr>\n",
       "      <th>34581</th>\n",
       "      <td>5146247</td>\n",
       "      <td>F</td>\n",
       "      <td>0</td>\n",
       "      <td>1</td>\n",
       "      <td>0</td>\n",
       "      <td>238500.0</td>\n",
       "      <td>Pensioner</td>\n",
       "      <td>Secondary / secondary special</td>\n",
       "      <td>Married</td>\n",
       "      <td>House / apartment</td>\n",
       "      <td>...</td>\n",
       "      <td>0</td>\n",
       "      <td>0</td>\n",
       "      <td>0</td>\n",
       "      <td>1</td>\n",
       "      <td>0</td>\n",
       "      <td>0</td>\n",
       "      <td>0</td>\n",
       "      <td>0</td>\n",
       "      <td>0</td>\n",
       "      <td>0</td>\n",
       "    </tr>\n",
       "    <tr>\n",
       "      <th>16771</th>\n",
       "      <td>5067027</td>\n",
       "      <td>F</td>\n",
       "      <td>0</td>\n",
       "      <td>1</td>\n",
       "      <td>1</td>\n",
       "      <td>135000.0</td>\n",
       "      <td>Working</td>\n",
       "      <td>Secondary / secondary special</td>\n",
       "      <td>Married</td>\n",
       "      <td>House / apartment</td>\n",
       "      <td>...</td>\n",
       "      <td>0</td>\n",
       "      <td>0</td>\n",
       "      <td>0</td>\n",
       "      <td>0</td>\n",
       "      <td>0</td>\n",
       "      <td>0</td>\n",
       "      <td>0</td>\n",
       "      <td>0</td>\n",
       "      <td>0</td>\n",
       "      <td>1</td>\n",
       "    </tr>\n",
       "  </tbody>\n",
       "</table>\n",
       "<p>5 rows × 61 columns</p>\n",
       "</div>"
      ],
      "text/plain": [
       "            id code_gender  flag_own_car  flag_own_realty  cnt_children  \\\n",
       "32073  5135805           F             0                1             0   \n",
       "31598  5132791           F             0                1             2   \n",
       "24158  5096773           F             0                0             0   \n",
       "34581  5146247           F             0                1             0   \n",
       "16771  5067027           F             0                1             1   \n",
       "\n",
       "       amt_income_total      name_income_type            name_education_type  \\\n",
       "32073           90000.0  Commercial associate  Secondary / secondary special   \n",
       "31598          180000.0               Working  Secondary / secondary special   \n",
       "24158          171000.0             Pensioner  Secondary / secondary special   \n",
       "34581          238500.0             Pensioner  Secondary / secondary special   \n",
       "16771          135000.0               Working  Secondary / secondary special   \n",
       "\n",
       "      name_family_status  name_housing_type  ...  \\\n",
       "32073            Married  House / apartment  ...   \n",
       "31598            Married  House / apartment  ...   \n",
       "24158            Married  House / apartment  ...   \n",
       "34581            Married  House / apartment  ...   \n",
       "16771            Married  House / apartment  ...   \n",
       "\n",
       "       occupation_type_low-skill_laborers  occupation_type_managers  \\\n",
       "32073                                   0                         0   \n",
       "31598                                   0                         0   \n",
       "24158                                   0                         0   \n",
       "34581                                   0                         0   \n",
       "16771                                   0                         0   \n",
       "\n",
       "       occupation_type_medicine_staff  occupation_type_other  \\\n",
       "32073                               0                      0   \n",
       "31598                               0                      0   \n",
       "24158                               0                      1   \n",
       "34581                               0                      1   \n",
       "16771                               0                      0   \n",
       "\n",
       "       occupation_type_private_service_staff  occupation_type_realty_agents  \\\n",
       "32073                                      0                              0   \n",
       "31598                                      0                              0   \n",
       "24158                                      0                              0   \n",
       "34581                                      0                              0   \n",
       "16771                                      0                              0   \n",
       "\n",
       "      occupation_type_sales_staff  occupation_type_secretaries  \\\n",
       "32073                           0                            0   \n",
       "31598                           0                            0   \n",
       "24158                           0                            0   \n",
       "34581                           0                            0   \n",
       "16771                           0                            0   \n",
       "\n",
       "       occupation_type_security_staff  occupation_type_waiters/barmen_staff  \n",
       "32073                               0                                     0  \n",
       "31598                               0                                     0  \n",
       "24158                               0                                     0  \n",
       "34581                               0                                     0  \n",
       "16771                               0                                     1  \n",
       "\n",
       "[5 rows x 61 columns]"
      ]
     },
     "execution_count": 11,
     "metadata": {},
     "output_type": "execute_result"
    }
   ],
   "source": [
    "train.head()"
   ]
  },
  {
   "cell_type": "code",
   "execution_count": 12,
   "metadata": {},
   "outputs": [
    {
     "data": {
      "text/plain": [
       "F    17578\n",
       "M     8670\n",
       "Name: code_gender, dtype: int64"
      ]
     },
     "execution_count": 12,
     "metadata": {},
     "output_type": "execute_result"
    }
   ],
   "source": [
    "train.code_gender.value_counts()"
   ]
  },
  {
   "cell_type": "code",
   "execution_count": 13,
   "metadata": {},
   "outputs": [
    {
     "data": {
      "text/plain": [
       "Text(0.5, 0, 'Number of Applicants')"
      ]
     },
     "execution_count": 13,
     "metadata": {},
     "output_type": "execute_result"
    },
    {
     "data": {
      "image/png": "[encoded data removed]",
      "text/plain": [
       "<Figure size 432x288 with 1 Axes>"
      ]
     },
     "metadata": {
      "needs_background": "light"
     },
     "output_type": "display_data"
    }
   ],
   "source": [
    "train.code_gender.value_counts().sort_values().plot(kind = 'barh', color = ['dodgerblue', 'orange'])\n",
    "plt.title('Gender Comparison in Applicants')\n",
    "plt.ylabel('Gender')\n",
    "plt.xlabel('Number of Applicants')"
   ]
  },
  {
   "cell_type": "markdown",
   "metadata": {},
   "source": [
    "### Is there a relationship between gender and score?"
   ]
  },
  {
   "cell_type": "code",
   "execution_count": 14,
   "metadata": {},
   "outputs": [
    {
     "data": {
      "text/plain": [
       "25.482698961937718"
      ]
     },
     "execution_count": 14,
     "metadata": {},
     "output_type": "execute_result"
    }
   ],
   "source": [
    "# Average score amongst males\n",
    "train[train.code_gender == 'M'].score.mean()"
   ]
  },
  {
   "cell_type": "code",
   "execution_count": 15,
   "metadata": {},
   "outputs": [
    {
     "data": {
      "text/plain": [
       "count    8670.000000\n",
       "mean       25.482699\n",
       "std        31.977172\n",
       "min       -81.000000\n",
       "25%         7.000000\n",
       "50%        24.000000\n",
       "75%        43.000000\n",
       "max       308.000000\n",
       "Name: score, dtype: float64"
      ]
     },
     "execution_count": 15,
     "metadata": {},
     "output_type": "execute_result"
    }
   ],
   "source": [
    "train[train.code_gender == 'M'].score.describe()"
   ]
  },
  {
   "cell_type": "code",
   "execution_count": 16,
   "metadata": {},
   "outputs": [
    {
     "data": {
      "text/plain": [
       "26.2864375924451"
      ]
     },
     "execution_count": 16,
     "metadata": {},
     "output_type": "execute_result"
    }
   ],
   "source": [
    "# Average score amongst females\n",
    "train[train.code_gender == 'F'].score.mean()"
   ]
  },
  {
   "cell_type": "code",
   "execution_count": 17,
   "metadata": {},
   "outputs": [
    {
     "data": {
      "text/plain": [
       "count    17578.000000\n",
       "mean        26.286438\n",
       "std         31.566673\n",
       "min        -81.000000\n",
       "25%          7.000000\n",
       "50%         24.000000\n",
       "75%         44.000000\n",
       "max        316.000000\n",
       "Name: score, dtype: float64"
      ]
     },
     "execution_count": 17,
     "metadata": {},
     "output_type": "execute_result"
    }
   ],
   "source": [
    "train[train.code_gender == 'F'].score.describe()"
   ]
  },
  {
   "cell_type": "markdown",
   "metadata": {},
   "source": [
    "### Is there a relationship between gender and car ownership?"
   ]
  },
  {
   "cell_type": "code",
   "execution_count": 18,
   "metadata": {},
   "outputs": [
    {
     "data": {
      "text/plain": [
       "0.6328719723183391"
      ]
     },
     "execution_count": 18,
     "metadata": {},
     "output_type": "execute_result"
    }
   ],
   "source": [
    "# Average car ownership amongst males\n",
    "train[train.code_gender == 'M'].flag_own_car.mean()"
   ]
  },
  {
   "cell_type": "code",
   "execution_count": 19,
   "metadata": {},
   "outputs": [
    {
     "data": {
      "text/plain": [
       "0.2590738423028786"
      ]
     },
     "execution_count": 19,
     "metadata": {},
     "output_type": "execute_result"
    }
   ],
   "source": [
    "# Average car ownership amongst females\n",
    "train[train.code_gender == 'F'].flag_own_car.mean()"
   ]
  },
  {
   "cell_type": "markdown",
   "metadata": {},
   "source": [
    "Males appear to own cars at a higher rate than females. We can validate this observation with a t-test:\n",
    "\n",
    "$H_0$: There is no difference in car ownership rates among males and females.  \n",
    "$H_0$: There is a difference in car ownership rates among males and females."
   ]
  },
  {
   "cell_type": "code",
   "execution_count": 20,
   "metadata": {},
   "outputs": [
    {
     "data": {
      "text/plain": [
       "(62.86030910495491, 0.0)"
      ]
     },
     "execution_count": 20,
     "metadata": {},
     "output_type": "execute_result"
    }
   ],
   "source": [
    "alpha = 0.05\n",
    "stat, p = stats.ttest_ind(train[train.code_gender == 'M'].flag_own_car, train[train.code_gender == 'F'].flag_own_car)\n",
    "stat, p"
   ]
  },
  {
   "cell_type": "code",
   "execution_count": 21,
   "metadata": {},
   "outputs": [
    {
     "name": "stdout",
     "output_type": "stream",
     "text": [
      "We reject the null hypothesis. Based on t-statistic, males own cars at a higher rate than females.\n"
     ]
    }
   ],
   "source": [
    "if p < alpha:\n",
    "    print('We reject the null hypothesis. Based on t-statistic, males own cars at a higher rate than females.')\n",
    "else:\n",
    "    print('We fail to reject the null hypothesis.')"
   ]
  },
  {
   "cell_type": "markdown",
   "metadata": {},
   "source": [
    "### Is there a relationship between gender and realty ownership?"
   ]
  },
  {
   "cell_type": "code",
   "execution_count": 22,
   "metadata": {},
   "outputs": [
    {
     "data": {
      "text/plain": [
       "0.6351787773933103"
      ]
     },
     "execution_count": 22,
     "metadata": {},
     "output_type": "execute_result"
    }
   ],
   "source": [
    "# Average home ownership amongst males\n",
    "train[train.code_gender == 'M'].flag_own_realty.mean()"
   ]
  },
  {
   "cell_type": "code",
   "execution_count": 23,
   "metadata": {},
   "outputs": [
    {
     "data": {
      "text/plain": [
       "0.6912618045283877"
      ]
     },
     "execution_count": 23,
     "metadata": {},
     "output_type": "execute_result"
    }
   ],
   "source": [
    "# Average home ownership amongst females\n",
    "train[train.code_gender == 'F'].flag_own_realty.mean()"
   ]
  },
  {
   "cell_type": "markdown",
   "metadata": {},
   "source": [
    "The difference in home ownership is much smaller. Females appear to own realty at a higher rate than males. We can validate this observation with a t-test.\n",
    "\n",
    "$H_0$: There is no difference in home ownership rates among males and females.  \n",
    "$H_a$: There is a difference in home ownership rates among males and females."
   ]
  },
  {
   "cell_type": "code",
   "execution_count": 24,
   "metadata": {},
   "outputs": [
    {
     "data": {
      "text/plain": [
       "(-9.121731168305445, 7.90870957751874e-20)"
      ]
     },
     "execution_count": 24,
     "metadata": {},
     "output_type": "execute_result"
    }
   ],
   "source": [
    "stat, p = stats.ttest_ind(train[train.code_gender == 'M'].flag_own_realty, train[train.code_gender == 'F'].flag_own_realty)\n",
    "stat, p"
   ]
  },
  {
   "cell_type": "code",
   "execution_count": 25,
   "metadata": {},
   "outputs": [
    {
     "name": "stdout",
     "output_type": "stream",
     "text": [
      "We reject the null hypothesis. Based on t-statistic, males own realty at a lower rate than females.\n"
     ]
    }
   ],
   "source": [
    "if p < alpha:\n",
    "    print('We reject the null hypothesis. Based on t-statistic, males own realty at a lower rate than females.')\n",
    "else:\n",
    "    print('We fail to reject the null hypothesis.')"
   ]
  },
  {
   "cell_type": "markdown",
   "metadata": {},
   "source": [
    "### Is there a relationship between gender and the number of children?"
   ]
  },
  {
   "cell_type": "code",
   "execution_count": 26,
   "metadata": {},
   "outputs": [
    {
     "data": {
      "text/plain": [
       "0.5144175317185697"
      ]
     },
     "execution_count": 26,
     "metadata": {},
     "output_type": "execute_result"
    }
   ],
   "source": [
    "# Average number of children amongst males\n",
    "train[train.code_gender == 'M'].cnt_children.mean()"
   ]
  },
  {
   "cell_type": "code",
   "execution_count": 27,
   "metadata": {},
   "outputs": [
    {
     "data": {
      "text/plain": [
       "0.3898054386164524"
      ]
     },
     "execution_count": 27,
     "metadata": {},
     "output_type": "execute_result"
    }
   ],
   "source": [
    "# Average number of children amongst females\n",
    "train[train.code_gender == 'F'].cnt_children.mean()"
   ]
  },
  {
   "cell_type": "markdown",
   "metadata": {},
   "source": [
    "Male applicants appear to have more children than female applicants. We can validate this with a t-test:\n",
    "\n",
    "$H_0$: There is no difference in the number of children between males and females  \n",
    "$H_a$: There is a difference in the number of children between males and females"
   ]
  },
  {
   "cell_type": "code",
   "execution_count": 28,
   "metadata": {},
   "outputs": [
    {
     "data": {
      "text/plain": [
       "(12.774463700132197, 2.9405943277508216e-37)"
      ]
     },
     "execution_count": 28,
     "metadata": {},
     "output_type": "execute_result"
    }
   ],
   "source": [
    "stat, p = stats.ttest_ind(train[train.code_gender == 'M'].cnt_children, train[train.code_gender == 'F'].cnt_children)\n",
    "stat, p"
   ]
  },
  {
   "cell_type": "code",
   "execution_count": 29,
   "metadata": {},
   "outputs": [
    {
     "name": "stdout",
     "output_type": "stream",
     "text": [
      "We reject the null hypothesis. Based on t-statistic, males have more children than females.\n"
     ]
    }
   ],
   "source": [
    "if p < alpha:\n",
    "    print('We reject the null hypothesis. Based on t-statistic, males have more children than females.')\n",
    "else:\n",
    "    print('We fail to reject the null hypothesis.')"
   ]
  },
  {
   "cell_type": "markdown",
   "metadata": {},
   "source": [
    "### Is there a relationship between gender and income?"
   ]
  },
  {
   "cell_type": "code",
   "execution_count": 30,
   "metadata": {},
   "outputs": [
    {
     "data": {
      "text/plain": [
       "215281.50778546714"
      ]
     },
     "execution_count": 30,
     "metadata": {},
     "output_type": "execute_result"
    }
   ],
   "source": [
    "# Average income amongst males\n",
    "train[train.code_gender == 'M'].amt_income_total.mean()"
   ]
  },
  {
   "cell_type": "code",
   "execution_count": 31,
   "metadata": {},
   "outputs": [
    {
     "data": {
      "text/plain": [
       "172342.6243315508"
      ]
     },
     "execution_count": 31,
     "metadata": {},
     "output_type": "execute_result"
    }
   ],
   "source": [
    "# Average income amongst females\n",
    "train[train.code_gender == 'F'].amt_income_total.mean()"
   ]
  },
  {
   "cell_type": "code",
   "execution_count": 32,
   "metadata": {},
   "outputs": [
    {
     "data": {
      "text/plain": [
       "(33.08854247455069, 2.9630620855135665e-235)"
      ]
     },
     "execution_count": 32,
     "metadata": {},
     "output_type": "execute_result"
    }
   ],
   "source": [
    "stat, p = stats.ttest_ind(train[train.code_gender == 'M'].amt_income_total, train[train.code_gender == 'F'].amt_income_total)\n",
    "stat, p"
   ]
  },
  {
   "cell_type": "code",
   "execution_count": 33,
   "metadata": {},
   "outputs": [
    {
     "name": "stdout",
     "output_type": "stream",
     "text": [
      "We reject the null hypothesis. Based on t-statistic, males have more income than females.\n"
     ]
    }
   ],
   "source": [
    "if p < alpha:\n",
    "    print('We reject the null hypothesis. Based on t-statistic, males have more income than females.')\n",
    "else:\n",
    "    print('We fail to reject the null hypothesis.')"
   ]
  },
  {
   "cell_type": "markdown",
   "metadata": {},
   "source": [
    "### Is there a relationship between gender and income type?"
   ]
  },
  {
   "cell_type": "code",
   "execution_count": 34,
   "metadata": {},
   "outputs": [
    {
     "data": {
      "text/html": [
       "<div>\n",
       "<style scoped>\n",
       "    .dataframe tbody tr th:only-of-type {\n",
       "        vertical-align: middle;\n",
       "    }\n",
       "\n",
       "    .dataframe tbody tr th {\n",
       "        vertical-align: top;\n",
       "    }\n",
       "\n",
       "    .dataframe thead th {\n",
       "        text-align: right;\n",
       "    }\n",
       "</style>\n",
       "<table border=\"1\" class=\"dataframe\">\n",
       "  <thead>\n",
       "    <tr style=\"text-align: right;\">\n",
       "      <th>name_income_type</th>\n",
       "      <th>Commercial associate</th>\n",
       "      <th>Pensioner</th>\n",
       "      <th>State servant</th>\n",
       "      <th>Student</th>\n",
       "      <th>Working</th>\n",
       "    </tr>\n",
       "    <tr>\n",
       "      <th>code_gender</th>\n",
       "      <th></th>\n",
       "      <th></th>\n",
       "      <th></th>\n",
       "      <th></th>\n",
       "      <th></th>\n",
       "    </tr>\n",
       "  </thead>\n",
       "  <tbody>\n",
       "    <tr>\n",
       "      <th>F</th>\n",
       "      <td>3993</td>\n",
       "      <td>3748</td>\n",
       "      <td>1575</td>\n",
       "      <td>9</td>\n",
       "      <td>8253</td>\n",
       "    </tr>\n",
       "    <tr>\n",
       "      <th>M</th>\n",
       "      <td>2115</td>\n",
       "      <td>673</td>\n",
       "      <td>575</td>\n",
       "      <td>1</td>\n",
       "      <td>5306</td>\n",
       "    </tr>\n",
       "  </tbody>\n",
       "</table>\n",
       "</div>"
      ],
      "text/plain": [
       "name_income_type  Commercial associate  Pensioner  State servant  Student  \\\n",
       "code_gender                                                                 \n",
       "F                                 3993       3748           1575        9   \n",
       "M                                 2115        673            575        1   \n",
       "\n",
       "name_income_type  Working  \n",
       "code_gender                \n",
       "F                    8253  \n",
       "M                    5306  "
      ]
     },
     "execution_count": 34,
     "metadata": {},
     "output_type": "execute_result"
    }
   ],
   "source": [
    "# Create a crosstab of gender and income type\n",
    "gender_income_type = pd.crosstab(train.code_gender, train.name_income_type)\n",
    "\n",
    "# Visualize intial crosstab\n",
    "gender_income_type"
   ]
  },
  {
   "cell_type": "code",
   "execution_count": 35,
   "metadata": {},
   "outputs": [
    {
     "data": {
      "text/html": [
       "<div>\n",
       "<style scoped>\n",
       "    .dataframe tbody tr th:only-of-type {\n",
       "        vertical-align: middle;\n",
       "    }\n",
       "\n",
       "    .dataframe tbody tr th {\n",
       "        vertical-align: top;\n",
       "    }\n",
       "\n",
       "    .dataframe thead th {\n",
       "        text-align: right;\n",
       "    }\n",
       "</style>\n",
       "<table border=\"1\" class=\"dataframe\">\n",
       "  <thead>\n",
       "    <tr style=\"text-align: right;\">\n",
       "      <th>name_income_type</th>\n",
       "      <th>Commercial associate</th>\n",
       "      <th>Pensioner</th>\n",
       "      <th>State servant</th>\n",
       "      <th>Student</th>\n",
       "      <th>Working</th>\n",
       "    </tr>\n",
       "    <tr>\n",
       "      <th>code_gender</th>\n",
       "      <th></th>\n",
       "      <th></th>\n",
       "      <th></th>\n",
       "      <th></th>\n",
       "      <th></th>\n",
       "    </tr>\n",
       "  </thead>\n",
       "  <tbody>\n",
       "    <tr>\n",
       "      <th>F</th>\n",
       "      <td>65.373281</td>\n",
       "      <td>84.7772</td>\n",
       "      <td>73.255814</td>\n",
       "      <td>90.0</td>\n",
       "      <td>60.867321</td>\n",
       "    </tr>\n",
       "    <tr>\n",
       "      <th>M</th>\n",
       "      <td>34.626719</td>\n",
       "      <td>15.2228</td>\n",
       "      <td>26.744186</td>\n",
       "      <td>10.0</td>\n",
       "      <td>39.132679</td>\n",
       "    </tr>\n",
       "  </tbody>\n",
       "</table>\n",
       "</div>"
      ],
      "text/plain": [
       "name_income_type  Commercial associate  Pensioner  State servant  Student  \\\n",
       "code_gender                                                                 \n",
       "F                            65.373281    84.7772      73.255814     90.0   \n",
       "M                            34.626719    15.2228      26.744186     10.0   \n",
       "\n",
       "name_income_type    Working  \n",
       "code_gender                  \n",
       "F                 60.867321  \n",
       "M                 39.132679  "
      ]
     },
     "execution_count": 35,
     "metadata": {},
     "output_type": "execute_result"
    }
   ],
   "source": [
    "# Convert counts to percentages by column\n",
    "gender_income_type['Commercial associate'] = (gender_income_type['Commercial associate'] / gender_income_type['Commercial associate'].sum() * 100)\n",
    "gender_income_type['Pensioner'] = (gender_income_type['Pensioner'] / gender_income_type['Pensioner'].sum() * 100)\n",
    "gender_income_type['State servant'] = (gender_income_type['State servant'] / gender_income_type['State servant'].sum() * 100)\n",
    "gender_income_type['Student'] = (gender_income_type['Student'] / gender_income_type['Student'].sum() * 100)\n",
    "gender_income_type['Working'] = (gender_income_type['Working'] / gender_income_type['Working'].sum() * 100)\n",
    "\n",
    "# Visualize modified crosstab\n",
    "gender_income_type"
   ]
  },
  {
   "cell_type": "code",
   "execution_count": 36,
   "metadata": {},
   "outputs": [
    {
     "data": {
      "image/png": "[encoded data removed]",
      "text/plain": [
       "<Figure size 1080x360 with 1 Axes>"
      ]
     },
     "metadata": {
      "needs_background": "light"
     },
     "output_type": "display_data"
    }
   ],
   "source": [
    "# Visualize percentages as stacked bar for each gender\n",
    "gender_income_type[['Commercial associate', 'Pensioner', 'State servant', 'Student', 'Working']].T.plot(kind='bar', stacked=True, color = ['lightpink', 'deepskyblue'], figsize=(15,5))\n",
    "\n",
    "# Add title text\n",
    "plt.title('Gender Proportion of Different Income Types')\n",
    "\n",
    "# Add y-axis label\n",
    "plt.ylabel('Percentage')\n",
    "\n",
    "# Change orientation of x-tick labels for easier reading\n",
    "plt.xticks(rotation=45)\n",
    "\n",
    "# Add x-axis label\n",
    "plt.xlabel('Income Type')\n",
    "\n",
    "# Clarify label title\n",
    "plt.legend(title='Gender')\n",
    "\n",
    "# Show chart\n",
    "plt.show()"
   ]
  },
  {
   "cell_type": "code",
   "execution_count": 37,
   "metadata": {},
   "outputs": [
    {
     "data": {
      "text/html": [
       "<div>\n",
       "<style scoped>\n",
       "    .dataframe tbody tr th:only-of-type {\n",
       "        vertical-align: middle;\n",
       "    }\n",
       "\n",
       "    .dataframe tbody tr th {\n",
       "        vertical-align: top;\n",
       "    }\n",
       "\n",
       "    .dataframe thead th {\n",
       "        text-align: right;\n",
       "    }\n",
       "</style>\n",
       "<table border=\"1\" class=\"dataframe\">\n",
       "  <thead>\n",
       "    <tr style=\"text-align: right;\">\n",
       "      <th>name_income_type</th>\n",
       "      <th>Commercial associate</th>\n",
       "      <th>Pensioner</th>\n",
       "      <th>State servant</th>\n",
       "      <th>Student</th>\n",
       "      <th>Working</th>\n",
       "      <th>Total</th>\n",
       "    </tr>\n",
       "    <tr>\n",
       "      <th>code_gender</th>\n",
       "      <th></th>\n",
       "      <th></th>\n",
       "      <th></th>\n",
       "      <th></th>\n",
       "      <th></th>\n",
       "      <th></th>\n",
       "    </tr>\n",
       "  </thead>\n",
       "  <tbody>\n",
       "    <tr>\n",
       "      <th>F</th>\n",
       "      <td>22.715895</td>\n",
       "      <td>21.322107</td>\n",
       "      <td>8.960064</td>\n",
       "      <td>0.051200</td>\n",
       "      <td>46.950734</td>\n",
       "      <td>17578</td>\n",
       "    </tr>\n",
       "    <tr>\n",
       "      <th>M</th>\n",
       "      <td>24.394464</td>\n",
       "      <td>7.762399</td>\n",
       "      <td>6.632065</td>\n",
       "      <td>0.011534</td>\n",
       "      <td>61.199539</td>\n",
       "      <td>8670</td>\n",
       "    </tr>\n",
       "  </tbody>\n",
       "</table>\n",
       "</div>"
      ],
      "text/plain": [
       "name_income_type  Commercial associate  Pensioner  State servant   Student  \\\n",
       "code_gender                                                                  \n",
       "F                            22.715895  21.322107       8.960064  0.051200   \n",
       "M                            24.394464   7.762399       6.632065  0.011534   \n",
       "\n",
       "name_income_type    Working  Total  \n",
       "code_gender                         \n",
       "F                 46.950734  17578  \n",
       "M                 61.199539   8670  "
      ]
     },
     "execution_count": 37,
     "metadata": {},
     "output_type": "execute_result"
    }
   ],
   "source": [
    "# Create a crosstab of gender and income type\n",
    "gender_income_type = pd.crosstab(train.code_gender, train.name_income_type) \n",
    "\n",
    "# Create a new column that is the sum of each row\n",
    "gender_income_type.loc[:,'Total'] = gender_income_type.sum(axis=1) \n",
    "\n",
    "# Convert quantities into percentages by row\n",
    "gender_income_type['Commercial associate'] = (gender_income_type['Commercial associate'] / gender_income_type['Total'] * 100)\n",
    "gender_income_type['Pensioner'] = (gender_income_type['Pensioner'] / gender_income_type['Total'] * 100)\n",
    "gender_income_type['State servant'] = (gender_income_type['State servant'] / gender_income_type['Total'] * 100)\n",
    "gender_income_type['Student'] = (gender_income_type['Student'] / gender_income_type['Total'] * 100)\n",
    "gender_income_type['Working'] = (gender_income_type['Working'] / gender_income_type['Total'] * 100)\n",
    "\n",
    "# View the dataframe\n",
    "gender_income_type"
   ]
  },
  {
   "cell_type": "code",
   "execution_count": 38,
   "metadata": {},
   "outputs": [
    {
     "data": {
      "image/png": "[encoded data removed]",
      "text/plain": [
       "<Figure size 1080x360 with 1 Axes>"
      ]
     },
     "metadata": {
      "needs_background": "light"
     },
     "output_type": "display_data"
    }
   ],
   "source": [
    "# Visualize percentages as stacked bar for each gender\n",
    "gender_income_type[['Commercial associate', 'Pensioner', 'State servant', 'Student', 'Working']].plot(kind='bar', stacked=True, figsize=(15,5))\n",
    "\n",
    "# Add title text\n",
    "plt.title('What Types of Jobs do Different Genders Hold?')\n",
    "\n",
    "# Add y-axis label\n",
    "plt.ylabel('Percentage')\n",
    "\n",
    "# Change orientation of x-tick labels for easier reading\n",
    "plt.xticks(rotation=0)\n",
    "\n",
    "# Add x-axis label\n",
    "plt.xlabel('Gender')\n",
    "\n",
    "# Clarify label title\n",
    "plt.legend(title='Type of Income')\n",
    "\n",
    "# Show chart\n",
    "plt.show()"
   ]
  },
  {
   "cell_type": "markdown",
   "metadata": {},
   "source": [
    "From visual perspective, it appears that women are more often Pensioners than men and men are more often Working than women. We can confirm this with a chi-squared analysis:"
   ]
  },
  {
   "cell_type": "code",
   "execution_count": 39,
   "metadata": {},
   "outputs": [
    {
     "data": {
      "text/html": [
       "<div>\n",
       "<style scoped>\n",
       "    .dataframe tbody tr th:only-of-type {\n",
       "        vertical-align: middle;\n",
       "    }\n",
       "\n",
       "    .dataframe tbody tr th {\n",
       "        vertical-align: top;\n",
       "    }\n",
       "\n",
       "    .dataframe thead th {\n",
       "        text-align: right;\n",
       "    }\n",
       "</style>\n",
       "<table border=\"1\" class=\"dataframe\">\n",
       "  <thead>\n",
       "    <tr style=\"text-align: right;\">\n",
       "      <th>name_income_type</th>\n",
       "      <th>Pensioner</th>\n",
       "      <th>Working</th>\n",
       "    </tr>\n",
       "    <tr>\n",
       "      <th>code_gender</th>\n",
       "      <th></th>\n",
       "      <th></th>\n",
       "    </tr>\n",
       "  </thead>\n",
       "  <tbody>\n",
       "    <tr>\n",
       "      <th>F</th>\n",
       "      <td>3748</td>\n",
       "      <td>8253</td>\n",
       "    </tr>\n",
       "    <tr>\n",
       "      <th>M</th>\n",
       "      <td>673</td>\n",
       "      <td>5306</td>\n",
       "    </tr>\n",
       "  </tbody>\n",
       "</table>\n",
       "</div>"
      ],
      "text/plain": [
       "name_income_type  Pensioner  Working\n",
       "code_gender                         \n",
       "F                      3748     8253\n",
       "M                       673     5306"
      ]
     },
     "execution_count": 39,
     "metadata": {},
     "output_type": "execute_result"
    }
   ],
   "source": [
    "gender_income_type_pensioner_working = pd.crosstab(train.code_gender, train.name_income_type)[['Pensioner', 'Working']]\n",
    "gender_income_type_pensioner_working"
   ]
  },
  {
   "cell_type": "code",
   "execution_count": 40,
   "metadata": {
    "scrolled": true
   },
   "outputs": [
    {
     "name": "stdout",
     "output_type": "stream",
     "text": [
      "Observed\n",
      "\n",
      "[[3748 8253]\n",
      " [ 673 5306]]\n",
      "---\n",
      "Expected\n",
      "\n",
      "[[2950.85767519 9050.14232481]\n",
      " [1470.14232481 4508.85767519]]\n",
      "---\n",
      "\n",
      "chi^2 = 857.6333\n",
      "p     = 0.0000\n"
     ]
    }
   ],
   "source": [
    "alpha = 0.05\n",
    "chi2, p, degf, expected = stats.chi2_contingency(gender_income_type_pensioner_working)\n",
    "\n",
    "print('Observed\\n')\n",
    "print(gender_income_type_pensioner_working.values)\n",
    "print('---\\nExpected\\n')\n",
    "print(expected)\n",
    "print('---\\n')\n",
    "print(f'chi^2 = {chi2:.4f}')\n",
    "print(f'p     = {p:.4f}')"
   ]
  },
  {
   "cell_type": "markdown",
   "metadata": {},
   "source": [
    "### Increasing Credit Card Debt Over Time\n",
    "Source: Statistica"
   ]
  },
  {
   "cell_type": "code",
   "execution_count": 1,
   "metadata": {},
   "outputs": [],
   "source": [
    "debt = {'Year':[2012, 2013, 2014, 2015, 2016, 2017, 2018], 'Amount':[3.49, 4.57, 5.60, 7.08, 9.14, 12.48, 15.40]}"
   ]
  },
  {
   "cell_type": "code",
   "execution_count": 12,
   "metadata": {},
   "outputs": [],
   "source": [
    "import seaborn as sns\n",
    "import matplotlib.pyplot as plt"
   ]
  },
  {
   "cell_type": "code",
   "execution_count": 35,
   "metadata": {},
   "outputs": [],
   "source": [
    "x_axis = [2012, 2013, 2014, 2015, 2016, 2017, 2018]\n",
    "y_axis = [3.49, 4.57, 5.60, 7.08, 9.14, 12.48, 15.40]"
   ]
  },
  {
   "cell_type": "code",
   "execution_count": 41,
   "metadata": {},
   "outputs": [
    {
     "name": "stderr",
     "output_type": "stream",
     "text": [
      "/usr/local/anaconda3/lib/python3.7/site-packages/seaborn/_decorators.py:43: FutureWarning: Pass the following variables as keyword args: x, y. From version 0.12, the only valid positional argument will be `data`, and passing other arguments without an explicit keyword will result in an error or misinterpretation.\n",
      "  FutureWarning\n"
     ]
    },
    {
     "data": {
      "image/png": "[encoded data removed]",
      "text/plain": [
       "<Figure size 1080x720 with 1 Axes>"
      ]
     },
     "metadata": {},
     "output_type": "display_data"
    }
   ],
   "source": [
    "sns.set_style(\"dark\")\n",
    "sns.set_context(\"talk\")\n",
    "plt.figure(figsize=(15,10))\n",
    "plt.ylim(0, 18)\n",
    "g = sns.barplot(x_axis, y_axis, color='steelblue')\n",
    "ax = g\n",
    "plt.title('Credit Card Loans in China Have Increased Dramatically')\n",
    "plt.ylabel('Outstanding Amount of Revolving Loans (Trillion Yuan)')\n",
    "plt.xlabel('Year')\n",
    "\n",
    "# Annotate Axis\n",
    "for p in ax.patches:\n",
    "             ax.annotate(\"%.2f\" % p.get_height(), (p.get_x() + p.get_width() / 2., p.get_height()),\n",
    "                 ha='center', va='center', fontsize=14, color='black', xytext=(0, 20),\n",
    "                 textcoords='offset points')\n",
    "_ = g.set_ylim(0,18) #To make space for the annotations"
   ]
  },
  {
   "cell_type": "markdown",
   "metadata": {},
   "source": [
    "_"
   ]
  },
  {
   "cell_type": "code",
   "execution_count": 43,
   "metadata": {},
   "outputs": [],
   "source": [
    "import pandas as pd\n",
    "appssize = pd.read_csv('application_record.csv')\n",
    "credsize = pd.read_csv('credit_record.csv')"
   ]
  },
  {
   "cell_type": "code",
   "execution_count": 44,
   "metadata": {},
   "outputs": [
    {
     "data": {
      "text/plain": [
       "((438557, 18), (1048575, 3))"
      ]
     },
     "execution_count": 44,
     "metadata": {},
     "output_type": "execute_result"
    }
   ],
   "source": [
    "appssize.shape, credsize.shape"
   ]
  },
  {
   "cell_type": "code",
   "execution_count": null,
   "metadata": {},
   "outputs": [],
   "source": []
  }
 ],
 "metadata": {
  "kernelspec": {
   "display_name": "Python 3",
   "language": "python",
   "name": "python3"
  },
  "language_info": {
   "codemirror_mode": {
    "name": "ipython",
    "version": 3
   },
   "file_extension": ".py",
   "mimetype": "text/x-python",
   "name": "python",
   "nbconvert_exporter": "python",
   "pygments_lexer": "ipython3",
   "version": "3.7.9"
  }
 },
 "nbformat": 4,
 "nbformat_minor": 4
}
